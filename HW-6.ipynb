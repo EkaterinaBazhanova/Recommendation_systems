{
 "cells": [
  {
   "cell_type": "markdown",
   "metadata": {},
   "source": [
    "# Домашнее задание 6.\n",
    "# Двухуровневые модели рекомендаций"
   ]
  },
  {
   "cell_type": "code",
   "execution_count": 1,
   "metadata": {},
   "outputs": [],
   "source": [
    "#импорт необходимых библиотек и модулей\n",
    "import pandas as pd\n",
    "import numpy as np\n",
    "import matplotlib.pyplot as plt\n",
    "%matplotlib inline\n",
    "\n",
    "# Для работы с матрицами\n",
    "from scipy.sparse import csr_matrix\n",
    "\n",
    "# Матричная факторизация\n",
    "from implicit import als\n",
    "\n",
    "# Модель второго уровня\n",
    "from lightgbm import LGBMClassifier\n",
    "\n",
    "import os, sys\n",
    "module_path = os.path.abspath(os.path.join(os.pardir))\n",
    "if module_path not in sys.path:\n",
    "    sys.path.append(module_path)\n",
    "\n",
    "# Написанные нами функции\n",
    "#from metrics import precision_at_k, recall_at_k\n",
    "#from utils import prefilter_items\n",
    "#from recommenders import MainRecommender\n",
    "\n",
    "# Написанные нами функции\n",
    "from metrics import precision_at_k, recall_at_k\n",
    "from utils import prefilter_items\n",
    "from recommenders import MainRecommender"
   ]
  },
  {
   "cell_type": "markdown",
   "metadata": {},
   "source": [
    "[0. Загрузка данных](#part0) \n",
    "\n",
    "[1. Задание №1](#part1) \n",
    "\n",
    "[2. Задание №2](#part2) "
   ]
  },
  {
   "cell_type": "markdown",
   "metadata": {},
   "source": [
    "## 0. Загрузка данных <a class=\"anchor\" id=\"part0\"></a><center>"
   ]
  },
  {
   "cell_type": "code",
   "execution_count": 2,
   "metadata": {},
   "outputs": [
    {
     "data": {
      "text/html": [
       "<div>\n",
       "<style scoped>\n",
       "    .dataframe tbody tr th:only-of-type {\n",
       "        vertical-align: middle;\n",
       "    }\n",
       "\n",
       "    .dataframe tbody tr th {\n",
       "        vertical-align: top;\n",
       "    }\n",
       "\n",
       "    .dataframe thead th {\n",
       "        text-align: right;\n",
       "    }\n",
       "</style>\n",
       "<table border=\"1\" class=\"dataframe\">\n",
       "  <thead>\n",
       "    <tr style=\"text-align: right;\">\n",
       "      <th></th>\n",
       "      <th>user_id</th>\n",
       "      <th>basket_id</th>\n",
       "      <th>day</th>\n",
       "      <th>item_id</th>\n",
       "      <th>quantity</th>\n",
       "      <th>sales_value</th>\n",
       "      <th>store_id</th>\n",
       "      <th>retail_disc</th>\n",
       "      <th>trans_time</th>\n",
       "      <th>week_no</th>\n",
       "      <th>coupon_disc</th>\n",
       "      <th>coupon_match_disc</th>\n",
       "    </tr>\n",
       "  </thead>\n",
       "  <tbody>\n",
       "    <tr>\n",
       "      <th>0</th>\n",
       "      <td>2375</td>\n",
       "      <td>26984851472</td>\n",
       "      <td>1</td>\n",
       "      <td>1004906</td>\n",
       "      <td>1</td>\n",
       "      <td>1.39</td>\n",
       "      <td>364</td>\n",
       "      <td>-0.6</td>\n",
       "      <td>1631</td>\n",
       "      <td>1</td>\n",
       "      <td>0.0</td>\n",
       "      <td>0.0</td>\n",
       "    </tr>\n",
       "    <tr>\n",
       "      <th>1</th>\n",
       "      <td>2375</td>\n",
       "      <td>26984851472</td>\n",
       "      <td>1</td>\n",
       "      <td>1033142</td>\n",
       "      <td>1</td>\n",
       "      <td>0.82</td>\n",
       "      <td>364</td>\n",
       "      <td>0.0</td>\n",
       "      <td>1631</td>\n",
       "      <td>1</td>\n",
       "      <td>0.0</td>\n",
       "      <td>0.0</td>\n",
       "    </tr>\n",
       "  </tbody>\n",
       "</table>\n",
       "</div>"
      ],
      "text/plain": [
       "   user_id    basket_id  day  item_id  quantity  sales_value  store_id  \\\n",
       "0     2375  26984851472    1  1004906         1         1.39       364   \n",
       "1     2375  26984851472    1  1033142         1         0.82       364   \n",
       "\n",
       "   retail_disc  trans_time  week_no  coupon_disc  coupon_match_disc  \n",
       "0         -0.6        1631        1          0.0                0.0  \n",
       "1          0.0        1631        1          0.0                0.0  "
      ]
     },
     "execution_count": 2,
     "metadata": {},
     "output_type": "execute_result"
    }
   ],
   "source": [
    "data = pd.read_csv('retail_train.csv')\n",
    "item_features = pd.read_csv('product.csv')\n",
    "user_features = pd.read_csv('hh_demographic.csv')\n",
    "\n",
    "# column processing (названия столбцов переводим в нижний регистр)\n",
    "item_features.columns = [col.lower() for col in item_features.columns]\n",
    "user_features.columns = [col.lower() for col in user_features.columns]\n",
    "\n",
    "item_features.rename(columns={'product_id': 'item_id'}, inplace=True)\n",
    "user_features.rename(columns={'household_key': 'user_id'}, inplace=True)\n",
    "\n",
    "\n",
    "# Важна схема обучения и валидации!\n",
    "# -- давние покупки -- | -- 6 недель -- | -- 3 недель -- \n",
    "# подобрать размер 2-ого датасета (6 недель) --> learning curve (зависимость метрики recall@k от размера датасета)\n",
    "val_lvl_1_size_weeks = 6\n",
    "val_lvl_2_size_weeks = 3\n",
    "\n",
    "#данные для обучения первой модели\n",
    "data_train_lvl_1 = data[data['week_no'] < data['week_no'].max() - (val_lvl_1_size_weeks + val_lvl_2_size_weeks)]\n",
    "\n",
    "#данные для валидации первой модели\n",
    "data_val_lvl_1 = data[(data['week_no'] >= data['week_no'].max() - (val_lvl_1_size_weeks + val_lvl_2_size_weeks)) &\n",
    "                      (data['week_no'] < data['week_no'].max() - (val_lvl_2_size_weeks))]\n",
    "\n",
    "#данные для обучения второй модели\n",
    "data_train_lvl_2 = data_val_lvl_1.copy()  # Для наглядности. Далее мы добавим изменения, и они будут отличаться\n",
    "\n",
    "#данные для теста первой и второй модели\n",
    "data_val_lvl_2 = data[data['week_no'] >= data['week_no'].max() - val_lvl_2_size_weeks]\n",
    "\n",
    "data_train_lvl_1.head(2)"
   ]
  },
  {
   "cell_type": "code",
   "execution_count": 3,
   "metadata": {},
   "outputs": [
    {
     "name": "stdout",
     "output_type": "stream",
     "text": [
      "Decreased # items from 83685 to 5001\n"
     ]
    }
   ],
   "source": [
    "#предобработка данных\n",
    "n_items_before = data_train_lvl_1['item_id'].nunique()\n",
    "\n",
    "data_train_lvl_1 = prefilter_items(data_train_lvl_1, item_features=item_features, take_n_popular=5000)\n",
    "\n",
    "n_items_after = data_train_lvl_1['item_id'].nunique()\n",
    "print('Decreased # items from {} to {}'.format(n_items_before, n_items_after))"
   ]
  },
  {
   "cell_type": "code",
   "execution_count": 4,
   "metadata": {},
   "outputs": [],
   "source": [
    "def print_stats_data(df_data, name_df):\n",
    "    print(name_df)\n",
    "    print(f\"Shape: {df_data.shape} Users: {df_data['user_id'].nunique()} Items: {df_data['item_id'].nunique()}\")"
   ]
  },
  {
   "cell_type": "code",
   "execution_count": 5,
   "metadata": {},
   "outputs": [
    {
     "name": "stdout",
     "output_type": "stream",
     "text": [
      "train_lvl_1\n",
      "Shape: (998901, 13) Users: 1915 Items: 5001\n",
      "val_lvl_1\n",
      "Shape: (163261, 12) Users: 1915 Items: 27118\n",
      "train_lvl_2\n",
      "Shape: (163261, 12) Users: 1915 Items: 27118\n",
      "val_lvl_2\n",
      "Shape: (115989, 12) Users: 1915 Items: 24042\n"
     ]
    }
   ],
   "source": [
    "# warm-start\n",
    "common_users = list(set(data_train_lvl_1.user_id.values)&(set(data_val_lvl_1.user_id.values))&set(data_val_lvl_2.user_id.values))\n",
    "\n",
    "data_train_lvl_1 = data_train_lvl_1[data_train_lvl_1.user_id.isin(common_users)]\n",
    "data_val_lvl_1 = data_val_lvl_1[data_val_lvl_1.user_id.isin(common_users)]\n",
    "data_train_lvl_2 = data_train_lvl_2[data_train_lvl_2.user_id.isin(common_users)]\n",
    "data_val_lvl_2 = data_val_lvl_2[data_val_lvl_2.user_id.isin(common_users)]\n",
    "\n",
    "print_stats_data(data_train_lvl_1,'train_lvl_1')\n",
    "print_stats_data(data_val_lvl_1,'val_lvl_1')\n",
    "print_stats_data(data_train_lvl_2,'train_lvl_2')\n",
    "print_stats_data(data_val_lvl_2,'val_lvl_2')"
   ]
  },
  {
   "cell_type": "code",
   "execution_count": 6,
   "metadata": {},
   "outputs": [
    {
     "name": "stderr",
     "output_type": "stream",
     "text": [
      "WARNING:root:Intel MKL BLAS detected. Its highly recommend to set the environment variable 'export MKL_NUM_THREADS=1' to disable its internal multithreading\n"
     ]
    },
    {
     "data": {
      "application/vnd.jupyter.widget-view+json": {
       "model_id": "1ba3b7f3bfdd40b290f31d8f847d5d5b",
       "version_major": 2,
       "version_minor": 0
      },
      "text/plain": [
       "HBox(children=(HTML(value=''), FloatProgress(value=0.0, max=15.0), HTML(value='')))"
      ]
     },
     "metadata": {},
     "output_type": "display_data"
    },
    {
     "name": "stdout",
     "output_type": "stream",
     "text": [
      "\n"
     ]
    },
    {
     "data": {
      "application/vnd.jupyter.widget-view+json": {
       "model_id": "c498cbb53da24d96bdf671b3f0b16103",
       "version_major": 2,
       "version_minor": 0
      },
      "text/plain": [
       "HBox(children=(HTML(value=''), FloatProgress(value=0.0, max=5001.0), HTML(value='')))"
      ]
     },
     "metadata": {},
     "output_type": "display_data"
    },
    {
     "name": "stdout",
     "output_type": "stream",
     "text": [
      "\n"
     ]
    }
   ],
   "source": [
    "#создаем элемент класса\n",
    "recommender = MainRecommender(data_train_lvl_1)"
   ]
  },
  {
   "cell_type": "markdown",
   "metadata": {},
   "source": [
    "Варианты поиска возможных кандидатов в рекомендации для user_id = 2375. Можно потом все эти варианты соединить в один\n",
    "\n",
    "(!) Если модель рекомендует < N товаров, то рекомендации дополняются топ-популярными товарами до N"
   ]
  },
  {
   "cell_type": "code",
   "execution_count": 7,
   "metadata": {},
   "outputs": [
    {
     "data": {
      "text/plain": [
       "[871756, 925862, 944534, 1116589, 883932]"
      ]
     },
     "execution_count": 7,
     "metadata": {},
     "output_type": "execute_result"
    }
   ],
   "source": [
    "recommender.get_als_recommendations(2375, N=200)[:5]"
   ]
  },
  {
   "cell_type": "code",
   "execution_count": 8,
   "metadata": {},
   "outputs": [
    {
     "data": {
      "text/plain": [
       "[1036501, 887219, 918046, 9802981, 847962]"
      ]
     },
     "execution_count": 8,
     "metadata": {},
     "output_type": "execute_result"
    }
   ],
   "source": [
    "recommender.get_own_recommendations(2375, N=200)[:5]"
   ]
  },
  {
   "cell_type": "code",
   "execution_count": 9,
   "metadata": {},
   "outputs": [
    {
     "data": {
      "text/plain": [
       "[1127716, 864774, 5564906, 1115576, 918335]"
      ]
     },
     "execution_count": 9,
     "metadata": {},
     "output_type": "execute_result"
    }
   ],
   "source": [
    "recommender.get_similar_items_recommendation(2375, N=200)[:5]"
   ]
  },
  {
   "cell_type": "code",
   "execution_count": 10,
   "metadata": {},
   "outputs": [
    {
     "data": {
      "text/plain": [
       "[985055, 935527, 1136341, 868161, 907308]"
      ]
     },
     "execution_count": 10,
     "metadata": {},
     "output_type": "execute_result"
    }
   ],
   "source": [
    "recommender.get_similar_users_recommendation(2375, N=200)[:5]"
   ]
  },
  {
   "cell_type": "markdown",
   "metadata": {},
   "source": [
    "## Задание №1 <a class=\"anchor\" id=\"part1\"></a><center>\n",
    "\n",
    "A) Попробуйте различные варианты генерации кандидатов. Какие из них дают наибольший recall@k ?\n",
    "- Пока пробуем отобрать 50 кандидатов (k=50)\n",
    "- Качество измеряем на data_val_lvl_1: следующие 6 недель после трейна\n",
    "\n",
    "Дают ли own recommendtions + top-popular лучший recall?  \n",
    "\n",
    "B)* Как зависит recall@k от k? Постройте для одной схемы генерации кандидатов эту зависимость для k = {20, 50, 100, 200, 500}  \n",
    "C)* Исходя из прошлого вопроса, как вы думаете, какое значение k является наиболее разумным?"
   ]
  },
  {
   "cell_type": "markdown",
   "metadata": {},
   "source": [
    "### A) посчитаем значения  recall@k для возможных кандидатов в рекомендации"
   ]
  },
  {
   "cell_type": "code",
   "execution_count": 11,
   "metadata": {},
   "outputs": [
    {
     "data": {
      "text/html": [
       "<div>\n",
       "<style scoped>\n",
       "    .dataframe tbody tr th:only-of-type {\n",
       "        vertical-align: middle;\n",
       "    }\n",
       "\n",
       "    .dataframe tbody tr th {\n",
       "        vertical-align: top;\n",
       "    }\n",
       "\n",
       "    .dataframe thead th {\n",
       "        text-align: right;\n",
       "    }\n",
       "</style>\n",
       "<table border=\"1\" class=\"dataframe\">\n",
       "  <thead>\n",
       "    <tr style=\"text-align: right;\">\n",
       "      <th></th>\n",
       "      <th>user_id</th>\n",
       "      <th>actual</th>\n",
       "    </tr>\n",
       "  </thead>\n",
       "  <tbody>\n",
       "    <tr>\n",
       "      <th>0</th>\n",
       "      <td>1</td>\n",
       "      <td>[853529, 865456, 867607, 872137, 874905, 87524...</td>\n",
       "    </tr>\n",
       "    <tr>\n",
       "      <th>1</th>\n",
       "      <td>6</td>\n",
       "      <td>[1024306, 1102949, 6548453, 835394, 940804, 96...</td>\n",
       "    </tr>\n",
       "  </tbody>\n",
       "</table>\n",
       "</div>"
      ],
      "text/plain": [
       "   user_id                                             actual\n",
       "0        1  [853529, 865456, 867607, 872137, 874905, 87524...\n",
       "1        6  [1024306, 1102949, 6548453, 835394, 940804, 96..."
      ]
     },
     "execution_count": 11,
     "metadata": {},
     "output_type": "execute_result"
    }
   ],
   "source": [
    "result_lvl_1 = data_val_lvl_1.groupby('user_id')['item_id'].unique().reset_index()\n",
    "result_lvl_1.columns=['user_id', 'actual']\n",
    "result_lvl_1.head(2)"
   ]
  },
  {
   "cell_type": "code",
   "execution_count": 12,
   "metadata": {},
   "outputs": [],
   "source": [
    "result_lvl_1['als_recommendations'] = result_lvl_1['user_id'].apply(lambda x: recommender.get_als_recommendations(x, N=50))\n",
    "als_recommendations_metric = result_lvl_1.apply(lambda row: recall_at_k(row['als_recommendations'], row['actual'], 50), axis=1).mean()"
   ]
  },
  {
   "cell_type": "code",
   "execution_count": 13,
   "metadata": {},
   "outputs": [],
   "source": [
    "result_lvl_1['own_recommendations'] = result_lvl_1['user_id'].apply(lambda x: recommender.get_own_recommendations(x, N=50))\n",
    "own_recommendations_metric = result_lvl_1.apply(lambda row: recall_at_k(row['own_recommendations'], row['actual'], 50), axis=1).mean()"
   ]
  },
  {
   "cell_type": "code",
   "execution_count": 14,
   "metadata": {},
   "outputs": [],
   "source": [
    "result_lvl_1['similar_items_recommendation'] = result_lvl_1['user_id'].apply(lambda x: recommender.get_similar_items_recommendation(x, N=50))\n",
    "similar_items_recommendation_metric = result_lvl_1.apply(lambda row: recall_at_k(row['similar_items_recommendation'], row['actual'], 50), axis=1).mean()"
   ]
  },
  {
   "cell_type": "code",
   "execution_count": 15,
   "metadata": {},
   "outputs": [],
   "source": [
    "result_lvl_1['similar_users_recommendation'] = result_lvl_1['user_id'].apply(lambda x: recommender.get_similar_users_recommendation(x, N=50))\n",
    "similar_users_recommendation_metric = result_lvl_1.apply(lambda row: recall_at_k(row['similar_users_recommendation'], row['actual'], 50), axis=1).mean()"
   ]
  },
  {
   "cell_type": "code",
   "execution_count": 16,
   "metadata": {},
   "outputs": [
    {
     "data": {
      "text/html": [
       "<div>\n",
       "<style scoped>\n",
       "    .dataframe tbody tr th:only-of-type {\n",
       "        vertical-align: middle;\n",
       "    }\n",
       "\n",
       "    .dataframe tbody tr th {\n",
       "        vertical-align: top;\n",
       "    }\n",
       "\n",
       "    .dataframe thead th {\n",
       "        text-align: right;\n",
       "    }\n",
       "</style>\n",
       "<table border=\"1\" class=\"dataframe\">\n",
       "  <thead>\n",
       "    <tr style=\"text-align: right;\">\n",
       "      <th></th>\n",
       "      <th>user_id</th>\n",
       "      <th>actual</th>\n",
       "      <th>als_recommendations</th>\n",
       "      <th>own_recommendations</th>\n",
       "      <th>similar_items_recommendation</th>\n",
       "      <th>similar_users_recommendation</th>\n",
       "    </tr>\n",
       "  </thead>\n",
       "  <tbody>\n",
       "    <tr>\n",
       "      <th>0</th>\n",
       "      <td>1</td>\n",
       "      <td>[853529, 865456, 867607, 872137, 874905, 87524...</td>\n",
       "      <td>[885290, 9296957, 6534030, 1104349, 960732, 10...</td>\n",
       "      <td>[856942, 9297615, 5577022, 1074612, 9655212, 1...</td>\n",
       "      <td>[871754, 9526410, 5582712, 9297615, 5577022, 1...</td>\n",
       "      <td>[1028166, 898847, 898121, 9802981, 1136341, 83...</td>\n",
       "    </tr>\n",
       "    <tr>\n",
       "      <th>1</th>\n",
       "      <td>6</td>\n",
       "      <td>[1024306, 1102949, 6548453, 835394, 940804, 96...</td>\n",
       "      <td>[1042616, 910439, 928146, 1084036, 1127732, 10...</td>\n",
       "      <td>[13003092, 995598, 5570685, 6979393, 1084036, ...</td>\n",
       "      <td>[948650, 948650, 889731, 10455579, 845715, 863...</td>\n",
       "      <td>[1056212, 1113675, 970160, 897611, 923169, 101...</td>\n",
       "    </tr>\n",
       "  </tbody>\n",
       "</table>\n",
       "</div>"
      ],
      "text/plain": [
       "   user_id                                             actual  \\\n",
       "0        1  [853529, 865456, 867607, 872137, 874905, 87524...   \n",
       "1        6  [1024306, 1102949, 6548453, 835394, 940804, 96...   \n",
       "\n",
       "                                 als_recommendations  \\\n",
       "0  [885290, 9296957, 6534030, 1104349, 960732, 10...   \n",
       "1  [1042616, 910439, 928146, 1084036, 1127732, 10...   \n",
       "\n",
       "                                 own_recommendations  \\\n",
       "0  [856942, 9297615, 5577022, 1074612, 9655212, 1...   \n",
       "1  [13003092, 995598, 5570685, 6979393, 1084036, ...   \n",
       "\n",
       "                        similar_items_recommendation  \\\n",
       "0  [871754, 9526410, 5582712, 9297615, 5577022, 1...   \n",
       "1  [948650, 948650, 889731, 10455579, 845715, 863...   \n",
       "\n",
       "                        similar_users_recommendation  \n",
       "0  [1028166, 898847, 898121, 9802981, 1136341, 83...  \n",
       "1  [1056212, 1113675, 970160, 897611, 923169, 101...  "
      ]
     },
     "execution_count": 16,
     "metadata": {},
     "output_type": "execute_result"
    }
   ],
   "source": [
    "result_lvl_1.head(2)"
   ]
  },
  {
   "cell_type": "code",
   "execution_count": 17,
   "metadata": {},
   "outputs": [
    {
     "data": {
      "text/html": [
       "<div>\n",
       "<style scoped>\n",
       "    .dataframe tbody tr th:only-of-type {\n",
       "        vertical-align: middle;\n",
       "    }\n",
       "\n",
       "    .dataframe tbody tr th {\n",
       "        vertical-align: top;\n",
       "    }\n",
       "\n",
       "    .dataframe thead th {\n",
       "        text-align: right;\n",
       "    }\n",
       "</style>\n",
       "<table border=\"1\" class=\"dataframe\">\n",
       "  <thead>\n",
       "    <tr style=\"text-align: right;\">\n",
       "      <th></th>\n",
       "      <th>als_recommendations</th>\n",
       "      <th>own_recommendations</th>\n",
       "      <th>similar_items_recommendation</th>\n",
       "      <th>similar_users_recommendation</th>\n",
       "    </tr>\n",
       "  </thead>\n",
       "  <tbody>\n",
       "    <tr>\n",
       "      <th>recall@50</th>\n",
       "      <td>0.037006</td>\n",
       "      <td>0.063585</td>\n",
       "      <td>0.022182</td>\n",
       "      <td>0.007414</td>\n",
       "    </tr>\n",
       "  </tbody>\n",
       "</table>\n",
       "</div>"
      ],
      "text/plain": [
       "           als_recommendations  own_recommendations  \\\n",
       "recall@50             0.037006             0.063585   \n",
       "\n",
       "           similar_items_recommendation  similar_users_recommendation  \n",
       "recall@50                      0.022182                      0.007414  "
      ]
     },
     "execution_count": 17,
     "metadata": {},
     "output_type": "execute_result"
    }
   ],
   "source": [
    "metrics_result = pd.DataFrame({'als_recommendations': [als_recommendations_metric],\n",
    "                               'own_recommendations': [own_recommendations_metric],\n",
    "                               'similar_items_recommendation': [similar_items_recommendation_metric],\n",
    "                               'similar_users_recommendation': [similar_users_recommendation_metric]\n",
    "                              }, \n",
    "                              index = {'recall@50'})\n",
    "metrics_result"
   ]
  },
  {
   "cell_type": "code",
   "execution_count": 18,
   "metadata": {},
   "outputs": [
    {
     "name": "stdout",
     "output_type": "stream",
     "text": [
      "Вывод: \n",
      "Лучшее значение метрики recall@50 = 0.06358452263580718 у own_recommendations\n"
     ]
    }
   ],
   "source": [
    "print('Вывод: ')\n",
    "print(f'Лучшее значение метрики recall@50 = {max(metrics_result.values[0])} у {[column for column in metrics_result.columns.tolist() if metrics_result[column].values[0] == max(metrics_result.values[0])][0]}')"
   ]
  },
  {
   "cell_type": "markdown",
   "metadata": {},
   "source": [
    "### B)* Как зависит recall@k от k? Постройте для одной схемы генерации кандидатов эту зависимость для k = {20, 50, 100, 200, 500}  "
   ]
  },
  {
   "cell_type": "code",
   "execution_count": 19,
   "metadata": {},
   "outputs": [
    {
     "data": {
      "text/html": [
       "<div>\n",
       "<style scoped>\n",
       "    .dataframe tbody tr th:only-of-type {\n",
       "        vertical-align: middle;\n",
       "    }\n",
       "\n",
       "    .dataframe tbody tr th {\n",
       "        vertical-align: top;\n",
       "    }\n",
       "\n",
       "    .dataframe thead th {\n",
       "        text-align: right;\n",
       "    }\n",
       "</style>\n",
       "<table border=\"1\" class=\"dataframe\">\n",
       "  <thead>\n",
       "    <tr style=\"text-align: right;\">\n",
       "      <th></th>\n",
       "      <th>user_id</th>\n",
       "      <th>actual</th>\n",
       "    </tr>\n",
       "  </thead>\n",
       "  <tbody>\n",
       "    <tr>\n",
       "      <th>0</th>\n",
       "      <td>1</td>\n",
       "      <td>[853529, 865456, 867607, 872137, 874905, 87524...</td>\n",
       "    </tr>\n",
       "    <tr>\n",
       "      <th>1</th>\n",
       "      <td>6</td>\n",
       "      <td>[1024306, 1102949, 6548453, 835394, 940804, 96...</td>\n",
       "    </tr>\n",
       "  </tbody>\n",
       "</table>\n",
       "</div>"
      ],
      "text/plain": [
       "   user_id                                             actual\n",
       "0        1  [853529, 865456, 867607, 872137, 874905, 87524...\n",
       "1        6  [1024306, 1102949, 6548453, 835394, 940804, 96..."
      ]
     },
     "execution_count": 19,
     "metadata": {},
     "output_type": "execute_result"
    }
   ],
   "source": [
    "result_lvl_1 = data_val_lvl_1.groupby('user_id')['item_id'].unique().reset_index()\n",
    "result_lvl_1.columns=['user_id', 'actual']\n",
    "result_lvl_1.head(2)"
   ]
  },
  {
   "cell_type": "code",
   "execution_count": 20,
   "metadata": {},
   "outputs": [
    {
     "data": {
      "text/html": [
       "<div>\n",
       "<style scoped>\n",
       "    .dataframe tbody tr th:only-of-type {\n",
       "        vertical-align: middle;\n",
       "    }\n",
       "\n",
       "    .dataframe tbody tr th {\n",
       "        vertical-align: top;\n",
       "    }\n",
       "\n",
       "    .dataframe thead th {\n",
       "        text-align: right;\n",
       "    }\n",
       "</style>\n",
       "<table border=\"1\" class=\"dataframe\">\n",
       "  <thead>\n",
       "    <tr style=\"text-align: right;\">\n",
       "      <th></th>\n",
       "      <th>user_id</th>\n",
       "      <th>actual</th>\n",
       "      <th>own_recommendations_k=20</th>\n",
       "      <th>own_recommendations_k=50</th>\n",
       "      <th>own_recommendations_k=100</th>\n",
       "      <th>own_recommendations_k=200</th>\n",
       "      <th>own_recommendations_k=500</th>\n",
       "    </tr>\n",
       "  </thead>\n",
       "  <tbody>\n",
       "    <tr>\n",
       "      <th>0</th>\n",
       "      <td>1</td>\n",
       "      <td>[853529, 865456, 867607, 872137, 874905, 87524...</td>\n",
       "      <td>[856942, 9297615, 5577022, 1074612, 9655212, 1...</td>\n",
       "      <td>[856942, 9297615, 5577022, 1074612, 9655212, 1...</td>\n",
       "      <td>[856942, 9297615, 5577022, 1074612, 9655212, 1...</td>\n",
       "      <td>[856942, 9297615, 5577022, 1074612, 9655212, 1...</td>\n",
       "      <td>[856942, 9297615, 5577022, 1074612, 9655212, 1...</td>\n",
       "    </tr>\n",
       "    <tr>\n",
       "      <th>1</th>\n",
       "      <td>6</td>\n",
       "      <td>[1024306, 1102949, 6548453, 835394, 940804, 96...</td>\n",
       "      <td>[13003092, 995598, 5570685, 6979393, 1084036, ...</td>\n",
       "      <td>[13003092, 995598, 5570685, 6979393, 1084036, ...</td>\n",
       "      <td>[13003092, 995598, 5570685, 6979393, 1084036, ...</td>\n",
       "      <td>[13003092, 995598, 5570685, 6979393, 1084036, ...</td>\n",
       "      <td>[13003092, 995598, 5570685, 6979393, 1084036, ...</td>\n",
       "    </tr>\n",
       "    <tr>\n",
       "      <th>2</th>\n",
       "      <td>7</td>\n",
       "      <td>[836281, 843306, 845294, 914190, 920456, 93886...</td>\n",
       "      <td>[894360, 7147142, 840386, 974548, 896666, 5570...</td>\n",
       "      <td>[894360, 7147142, 840386, 974548, 896666, 5570...</td>\n",
       "      <td>[894360, 7147142, 840386, 974548, 896666, 5570...</td>\n",
       "      <td>[894360, 7147142, 840386, 974548, 896666, 5570...</td>\n",
       "      <td>[894360, 7147142, 840386, 974548, 896666, 5570...</td>\n",
       "    </tr>\n",
       "    <tr>\n",
       "      <th>3</th>\n",
       "      <td>8</td>\n",
       "      <td>[868075, 886787, 945611, 1005186, 1008787, 101...</td>\n",
       "      <td>[981660, 919963, 1021715, 969932, 950615, 6463...</td>\n",
       "      <td>[981660, 919963, 1021715, 969932, 950615, 6463...</td>\n",
       "      <td>[981660, 919963, 1021715, 969932, 950615, 6463...</td>\n",
       "      <td>[981660, 919963, 1021715, 969932, 950615, 6463...</td>\n",
       "      <td>[981660, 919963, 1021715, 969932, 950615, 6463...</td>\n",
       "    </tr>\n",
       "    <tr>\n",
       "      <th>4</th>\n",
       "      <td>9</td>\n",
       "      <td>[883616, 1029743, 1039126, 1051323, 1082772, 1...</td>\n",
       "      <td>[918046, 9655676, 9707147, 862799, 1098910, 90...</td>\n",
       "      <td>[918046, 9655676, 9707147, 862799, 1098910, 90...</td>\n",
       "      <td>[918046, 9655676, 9707147, 862799, 1098910, 90...</td>\n",
       "      <td>[918046, 9655676, 9707147, 862799, 1098910, 90...</td>\n",
       "      <td>[918046, 9655676, 9707147, 862799, 1098910, 90...</td>\n",
       "    </tr>\n",
       "    <tr>\n",
       "      <th>...</th>\n",
       "      <td>...</td>\n",
       "      <td>...</td>\n",
       "      <td>...</td>\n",
       "      <td>...</td>\n",
       "      <td>...</td>\n",
       "      <td>...</td>\n",
       "      <td>...</td>\n",
       "    </tr>\n",
       "    <tr>\n",
       "      <th>1910</th>\n",
       "      <td>2496</td>\n",
       "      <td>[831509, 867188, 1013623, 1048851, 5592734, 16...</td>\n",
       "      <td>[1134296, 1029112, 865196, 971660, 865511, 862...</td>\n",
       "      <td>[1134296, 1029112, 865196, 971660, 865511, 862...</td>\n",
       "      <td>[1134296, 1029112, 865196, 971660, 865511, 862...</td>\n",
       "      <td>[1134296, 1029112, 865196, 971660, 865511, 862...</td>\n",
       "      <td>[1134296, 1029112, 865196, 971660, 865511, 862...</td>\n",
       "    </tr>\n",
       "    <tr>\n",
       "      <th>1911</th>\n",
       "      <td>2497</td>\n",
       "      <td>[820291, 824759, 838797, 859010, 859075, 86077...</td>\n",
       "      <td>[1066685, 1117219, 938139, 852521, 1010950, 86...</td>\n",
       "      <td>[1066685, 1117219, 938139, 852521, 1010950, 86...</td>\n",
       "      <td>[1066685, 1117219, 938139, 852521, 1010950, 86...</td>\n",
       "      <td>[1066685, 1117219, 938139, 852521, 1010950, 86...</td>\n",
       "      <td>[1066685, 1117219, 938139, 852521, 1010950, 86...</td>\n",
       "    </tr>\n",
       "    <tr>\n",
       "      <th>1912</th>\n",
       "      <td>2498</td>\n",
       "      <td>[865511, 962991, 1076374, 1102358, 5564901, 15...</td>\n",
       "      <td>[1022066, 1076580, 5565356, 1100379, 968759, 9...</td>\n",
       "      <td>[1022066, 1076580, 5565356, 1100379, 968759, 9...</td>\n",
       "      <td>[1022066, 1076580, 5565356, 1100379, 968759, 9...</td>\n",
       "      <td>[1022066, 1076580, 5565356, 1100379, 968759, 9...</td>\n",
       "      <td>[1022066, 1076580, 5565356, 1100379, 968759, 9...</td>\n",
       "    </tr>\n",
       "    <tr>\n",
       "      <th>1913</th>\n",
       "      <td>2499</td>\n",
       "      <td>[861282, 921744, 1050968, 13842089, 828837, 86...</td>\n",
       "      <td>[5568964, 6904613, 1131312, 5570048, 889989, 1...</td>\n",
       "      <td>[5568964, 6904613, 1131312, 5570048, 889989, 1...</td>\n",
       "      <td>[5568964, 6904613, 1131312, 5570048, 889989, 1...</td>\n",
       "      <td>[5568964, 6904613, 1131312, 5570048, 889989, 1...</td>\n",
       "      <td>[5568964, 6904613, 1131312, 5570048, 889989, 1...</td>\n",
       "    </tr>\n",
       "    <tr>\n",
       "      <th>1914</th>\n",
       "      <td>2500</td>\n",
       "      <td>[856455, 902192, 903476, 931672, 936634, 95170...</td>\n",
       "      <td>[1063739, 12262832, 1065538, 1086061, 879393, ...</td>\n",
       "      <td>[1063739, 12262832, 1065538, 1086061, 879393, ...</td>\n",
       "      <td>[1063739, 12262832, 1065538, 1086061, 879393, ...</td>\n",
       "      <td>[1063739, 12262832, 1065538, 1086061, 879393, ...</td>\n",
       "      <td>[1063739, 12262832, 1065538, 1086061, 879393, ...</td>\n",
       "    </tr>\n",
       "  </tbody>\n",
       "</table>\n",
       "<p>1915 rows × 7 columns</p>\n",
       "</div>"
      ],
      "text/plain": [
       "      user_id                                             actual  \\\n",
       "0           1  [853529, 865456, 867607, 872137, 874905, 87524...   \n",
       "1           6  [1024306, 1102949, 6548453, 835394, 940804, 96...   \n",
       "2           7  [836281, 843306, 845294, 914190, 920456, 93886...   \n",
       "3           8  [868075, 886787, 945611, 1005186, 1008787, 101...   \n",
       "4           9  [883616, 1029743, 1039126, 1051323, 1082772, 1...   \n",
       "...       ...                                                ...   \n",
       "1910     2496  [831509, 867188, 1013623, 1048851, 5592734, 16...   \n",
       "1911     2497  [820291, 824759, 838797, 859010, 859075, 86077...   \n",
       "1912     2498  [865511, 962991, 1076374, 1102358, 5564901, 15...   \n",
       "1913     2499  [861282, 921744, 1050968, 13842089, 828837, 86...   \n",
       "1914     2500  [856455, 902192, 903476, 931672, 936634, 95170...   \n",
       "\n",
       "                               own_recommendations_k=20  \\\n",
       "0     [856942, 9297615, 5577022, 1074612, 9655212, 1...   \n",
       "1     [13003092, 995598, 5570685, 6979393, 1084036, ...   \n",
       "2     [894360, 7147142, 840386, 974548, 896666, 5570...   \n",
       "3     [981660, 919963, 1021715, 969932, 950615, 6463...   \n",
       "4     [918046, 9655676, 9707147, 862799, 1098910, 90...   \n",
       "...                                                 ...   \n",
       "1910  [1134296, 1029112, 865196, 971660, 865511, 862...   \n",
       "1911  [1066685, 1117219, 938139, 852521, 1010950, 86...   \n",
       "1912  [1022066, 1076580, 5565356, 1100379, 968759, 9...   \n",
       "1913  [5568964, 6904613, 1131312, 5570048, 889989, 1...   \n",
       "1914  [1063739, 12262832, 1065538, 1086061, 879393, ...   \n",
       "\n",
       "                               own_recommendations_k=50  \\\n",
       "0     [856942, 9297615, 5577022, 1074612, 9655212, 1...   \n",
       "1     [13003092, 995598, 5570685, 6979393, 1084036, ...   \n",
       "2     [894360, 7147142, 840386, 974548, 896666, 5570...   \n",
       "3     [981660, 919963, 1021715, 969932, 950615, 6463...   \n",
       "4     [918046, 9655676, 9707147, 862799, 1098910, 90...   \n",
       "...                                                 ...   \n",
       "1910  [1134296, 1029112, 865196, 971660, 865511, 862...   \n",
       "1911  [1066685, 1117219, 938139, 852521, 1010950, 86...   \n",
       "1912  [1022066, 1076580, 5565356, 1100379, 968759, 9...   \n",
       "1913  [5568964, 6904613, 1131312, 5570048, 889989, 1...   \n",
       "1914  [1063739, 12262832, 1065538, 1086061, 879393, ...   \n",
       "\n",
       "                              own_recommendations_k=100  \\\n",
       "0     [856942, 9297615, 5577022, 1074612, 9655212, 1...   \n",
       "1     [13003092, 995598, 5570685, 6979393, 1084036, ...   \n",
       "2     [894360, 7147142, 840386, 974548, 896666, 5570...   \n",
       "3     [981660, 919963, 1021715, 969932, 950615, 6463...   \n",
       "4     [918046, 9655676, 9707147, 862799, 1098910, 90...   \n",
       "...                                                 ...   \n",
       "1910  [1134296, 1029112, 865196, 971660, 865511, 862...   \n",
       "1911  [1066685, 1117219, 938139, 852521, 1010950, 86...   \n",
       "1912  [1022066, 1076580, 5565356, 1100379, 968759, 9...   \n",
       "1913  [5568964, 6904613, 1131312, 5570048, 889989, 1...   \n",
       "1914  [1063739, 12262832, 1065538, 1086061, 879393, ...   \n",
       "\n",
       "                              own_recommendations_k=200  \\\n",
       "0     [856942, 9297615, 5577022, 1074612, 9655212, 1...   \n",
       "1     [13003092, 995598, 5570685, 6979393, 1084036, ...   \n",
       "2     [894360, 7147142, 840386, 974548, 896666, 5570...   \n",
       "3     [981660, 919963, 1021715, 969932, 950615, 6463...   \n",
       "4     [918046, 9655676, 9707147, 862799, 1098910, 90...   \n",
       "...                                                 ...   \n",
       "1910  [1134296, 1029112, 865196, 971660, 865511, 862...   \n",
       "1911  [1066685, 1117219, 938139, 852521, 1010950, 86...   \n",
       "1912  [1022066, 1076580, 5565356, 1100379, 968759, 9...   \n",
       "1913  [5568964, 6904613, 1131312, 5570048, 889989, 1...   \n",
       "1914  [1063739, 12262832, 1065538, 1086061, 879393, ...   \n",
       "\n",
       "                              own_recommendations_k=500  \n",
       "0     [856942, 9297615, 5577022, 1074612, 9655212, 1...  \n",
       "1     [13003092, 995598, 5570685, 6979393, 1084036, ...  \n",
       "2     [894360, 7147142, 840386, 974548, 896666, 5570...  \n",
       "3     [981660, 919963, 1021715, 969932, 950615, 6463...  \n",
       "4     [918046, 9655676, 9707147, 862799, 1098910, 90...  \n",
       "...                                                 ...  \n",
       "1910  [1134296, 1029112, 865196, 971660, 865511, 862...  \n",
       "1911  [1066685, 1117219, 938139, 852521, 1010950, 86...  \n",
       "1912  [1022066, 1076580, 5565356, 1100379, 968759, 9...  \n",
       "1913  [5568964, 6904613, 1131312, 5570048, 889989, 1...  \n",
       "1914  [1063739, 12262832, 1065538, 1086061, 879393, ...  \n",
       "\n",
       "[1915 rows x 7 columns]"
      ]
     },
     "execution_count": 20,
     "metadata": {},
     "output_type": "execute_result"
    }
   ],
   "source": [
    "own_recommendations_metrics = []\n",
    "\n",
    "for k in [20,50,100,200,500]:\n",
    "    result_lvl_1[f'own_recommendations_k={k}'] = result_lvl_1['user_id'].apply(lambda x: recommender.get_own_recommendations(x, N=k))\n",
    "    own_recommendations_metric = result_lvl_1.apply(lambda row: recall_at_k(row[f'own_recommendations_k={k}'], row['actual'], k), axis=1).mean()\n",
    "    own_recommendations_metrics.append(own_recommendations_metric)\n",
    "\n",
    "result_lvl_1"
   ]
  },
  {
   "cell_type": "code",
   "execution_count": 21,
   "metadata": {},
   "outputs": [
    {
     "data": {
      "text/plain": [
       "[0.04035775664889501,\n",
       " 0.06358452263580718,\n",
       " 0.08883590802384353,\n",
       " 0.11857838766134818,\n",
       " 0.15851638681749888]"
      ]
     },
     "execution_count": 21,
     "metadata": {},
     "output_type": "execute_result"
    }
   ],
   "source": [
    "own_recommendations_metrics"
   ]
  },
  {
   "cell_type": "code",
   "execution_count": 22,
   "metadata": {},
   "outputs": [
    {
     "data": {
      "image/png": "[encoded data removed]",
      "text/plain": [
       "<Figure size 432x288 with 1 Axes>"
      ]
     },
     "metadata": {
      "needs_background": "light"
     },
     "output_type": "display_data"
    }
   ],
   "source": [
    "x = [20,50,100,200,500]\n",
    "y = own_recommendations_metrics\n",
    "plt.plot(x,y)\n",
    "plt.title(\"Dependence of recall@k by k\")\n",
    "plt.xlabel(\"k\")\n",
    "plt.ylabel(\"recall@k\")\n",
    "plt.show()"
   ]
  },
  {
   "cell_type": "markdown",
   "metadata": {},
   "source": [
    "**Вывод:** с увеличением k recall@k монотонно возрастает."
   ]
  },
  {
   "cell_type": "markdown",
   "metadata": {},
   "source": [
    "### C)* Исходя из прошлого вопроса, как вы думаете, какое значение k является наиболее разумным?"
   ]
  },
  {
   "cell_type": "markdown",
   "metadata": {},
   "source": [
    "Оптимальное количество рекомендаций (точка, где график recall@k перестает резко возрастать) равно 200. Однако, для покупателя такое количество рекомендаций является слишком большим. Целесообразно покупателям предлагать 5 товаров в качестве рекомендаций."
   ]
  },
  {
   "cell_type": "markdown",
   "metadata": {},
   "source": [
    "## 2. Задание №2. <a class=\"anchor\" id=\"part2\"></a><center>\n",
    "\n",
    "Обучите модель 2-ого уровня, при этом:\n",
    "    \n",
    "    - Добавьте минимум по 2 фичи для юзера, товара и пары юзер-товар\n",
    "    \n",
    "    - Измерьте отдельно precision@5 модели 1-ого уровня и двухуровневой модели на data_val_lvl_2\n",
    "    \n",
    "    - Вырос ли precision@5 при использовании двухуровневой модели?"
   ]
  },
  {
   "cell_type": "markdown",
   "metadata": {},
   "source": [
    "### A) Подготавливаем выбранных кандидатов для обучения:\n",
    "- *Для примера* сгенерируем топ-50 кадидиатов через get_own_recommendations\n",
    "- (!) Если юзер купил < 50 товаров, то get_own_recommendations дополнит рекоммендации топ-популярными"
   ]
  },
  {
   "cell_type": "code",
   "execution_count": 23,
   "metadata": {},
   "outputs": [],
   "source": [
    "#берем пользователей из data_train_lvl_2 для ранжирования\n",
    "users_lvl_2 = pd.DataFrame(data_train_lvl_2['user_id'].unique())\n",
    "users_lvl_2.columns = ['user_id']\n",
    "\n",
    "#собираем выбранных кандидатов\n",
    "users_lvl_2['candidates'] = users_lvl_2['user_id'].apply(lambda x: recommender.get_own_recommendations(x, N=50))"
   ]
  },
  {
   "cell_type": "code",
   "execution_count": 24,
   "metadata": {},
   "outputs": [
    {
     "data": {
      "text/html": [
       "<div>\n",
       "<style scoped>\n",
       "    .dataframe tbody tr th:only-of-type {\n",
       "        vertical-align: middle;\n",
       "    }\n",
       "\n",
       "    .dataframe tbody tr th {\n",
       "        vertical-align: top;\n",
       "    }\n",
       "\n",
       "    .dataframe thead th {\n",
       "        text-align: right;\n",
       "    }\n",
       "</style>\n",
       "<table border=\"1\" class=\"dataframe\">\n",
       "  <thead>\n",
       "    <tr style=\"text-align: right;\">\n",
       "      <th></th>\n",
       "      <th>user_id</th>\n",
       "      <th>candidates</th>\n",
       "    </tr>\n",
       "  </thead>\n",
       "  <tbody>\n",
       "    <tr>\n",
       "      <th>0</th>\n",
       "      <td>2070</td>\n",
       "      <td>[834103, 1119399, 944588, 1107824, 9802981, 10...</td>\n",
       "    </tr>\n",
       "    <tr>\n",
       "      <th>1</th>\n",
       "      <td>2021</td>\n",
       "      <td>[950935, 1119454, 1019142, 835578, 863762, 102...</td>\n",
       "    </tr>\n",
       "  </tbody>\n",
       "</table>\n",
       "</div>"
      ],
      "text/plain": [
       "   user_id                                         candidates\n",
       "0     2070  [834103, 1119399, 944588, 1107824, 9802981, 10...\n",
       "1     2021  [950935, 1119454, 1019142, 835578, 863762, 102..."
      ]
     },
     "execution_count": 24,
     "metadata": {},
     "output_type": "execute_result"
    }
   ],
   "source": [
    "users_lvl_2.head(2)"
   ]
  },
  {
   "cell_type": "code",
   "execution_count": 25,
   "metadata": {},
   "outputs": [
    {
     "data": {
      "text/html": [
       "<div>\n",
       "<style scoped>\n",
       "    .dataframe tbody tr th:only-of-type {\n",
       "        vertical-align: middle;\n",
       "    }\n",
       "\n",
       "    .dataframe tbody tr th {\n",
       "        vertical-align: top;\n",
       "    }\n",
       "\n",
       "    .dataframe thead th {\n",
       "        text-align: right;\n",
       "    }\n",
       "</style>\n",
       "<table border=\"1\" class=\"dataframe\">\n",
       "  <thead>\n",
       "    <tr style=\"text-align: right;\">\n",
       "      <th></th>\n",
       "      <th>user_id</th>\n",
       "      <th>item_id</th>\n",
       "    </tr>\n",
       "  </thead>\n",
       "  <tbody>\n",
       "    <tr>\n",
       "      <th>0</th>\n",
       "      <td>2070</td>\n",
       "      <td>834103</td>\n",
       "    </tr>\n",
       "    <tr>\n",
       "      <th>0</th>\n",
       "      <td>2070</td>\n",
       "      <td>1119399</td>\n",
       "    </tr>\n",
       "    <tr>\n",
       "      <th>0</th>\n",
       "      <td>2070</td>\n",
       "      <td>944588</td>\n",
       "    </tr>\n",
       "    <tr>\n",
       "      <th>0</th>\n",
       "      <td>2070</td>\n",
       "      <td>1107824</td>\n",
       "    </tr>\n",
       "  </tbody>\n",
       "</table>\n",
       "</div>"
      ],
      "text/plain": [
       "   user_id  item_id\n",
       "0     2070   834103\n",
       "0     2070  1119399\n",
       "0     2070   944588\n",
       "0     2070  1107824"
      ]
     },
     "execution_count": 25,
     "metadata": {},
     "output_type": "execute_result"
    }
   ],
   "source": [
    "#\"развернем\" таблицу, чтобы каждый кандидат был один в строке (чтобы к нему добавть таргет)\n",
    "s = users_lvl_2.apply(lambda x: pd.Series(x['candidates']), axis=1).stack().reset_index(level=1, drop=True)\n",
    "s.name = 'item_id'\n",
    "\n",
    "users_lvl_2 = users_lvl_2.drop('candidates', axis=1).join(s)\n",
    "\n",
    "users_lvl_2.head(4)"
   ]
  },
  {
   "cell_type": "code",
   "execution_count": 26,
   "metadata": {},
   "outputs": [
    {
     "data": {
      "text/plain": [
       "1915"
      ]
     },
     "execution_count": 26,
     "metadata": {},
     "output_type": "execute_result"
    }
   ],
   "source": [
    "users_lvl_2['user_id'].nunique() #количество уникальных пользователей"
   ]
  },
  {
   "cell_type": "code",
   "execution_count": 27,
   "metadata": {},
   "outputs": [
    {
     "data": {
      "text/html": [
       "<div>\n",
       "<style scoped>\n",
       "    .dataframe tbody tr th:only-of-type {\n",
       "        vertical-align: middle;\n",
       "    }\n",
       "\n",
       "    .dataframe tbody tr th {\n",
       "        vertical-align: top;\n",
       "    }\n",
       "\n",
       "    .dataframe thead th {\n",
       "        text-align: right;\n",
       "    }\n",
       "</style>\n",
       "<table border=\"1\" class=\"dataframe\">\n",
       "  <thead>\n",
       "    <tr style=\"text-align: right;\">\n",
       "      <th></th>\n",
       "      <th>user_id</th>\n",
       "      <th>item_id</th>\n",
       "      <th>target</th>\n",
       "    </tr>\n",
       "  </thead>\n",
       "  <tbody>\n",
       "    <tr>\n",
       "      <th>0</th>\n",
       "      <td>2070</td>\n",
       "      <td>834103</td>\n",
       "      <td>1.0</td>\n",
       "    </tr>\n",
       "    <tr>\n",
       "      <th>1</th>\n",
       "      <td>2070</td>\n",
       "      <td>834103</td>\n",
       "      <td>1.0</td>\n",
       "    </tr>\n",
       "    <tr>\n",
       "      <th>2</th>\n",
       "      <td>2070</td>\n",
       "      <td>834103</td>\n",
       "      <td>1.0</td>\n",
       "    </tr>\n",
       "    <tr>\n",
       "      <th>3</th>\n",
       "      <td>2070</td>\n",
       "      <td>834103</td>\n",
       "      <td>1.0</td>\n",
       "    </tr>\n",
       "  </tbody>\n",
       "</table>\n",
       "</div>"
      ],
      "text/plain": [
       "   user_id  item_id  target\n",
       "0     2070   834103     1.0\n",
       "1     2070   834103     1.0\n",
       "2     2070   834103     1.0\n",
       "3     2070   834103     1.0"
      ]
     },
     "execution_count": 27,
     "metadata": {},
     "output_type": "execute_result"
    }
   ],
   "source": [
    "#создаем датасет для ранжирования (для обучения модели второго уровня)\n",
    "#на каждого юзера по 50 кандидатов\n",
    "#Обучаем модель 2-ого уровня на data_train_lvl_2 и *только* на выбранных кандидатах!!!\n",
    "\n",
    "targets_lvl_2= data_train_lvl_2[['user_id', 'item_id']].copy()\n",
    "\n",
    "targets_lvl_2['target'] = 1  # тут только покупки \n",
    "\n",
    "targets_lvl_2 = users_lvl_2.merge(targets_lvl_2, on=['user_id', 'item_id'], how='left')\n",
    "\n",
    "targets_lvl_2['target'].fillna(0, inplace= True)\n",
    "\n",
    "targets_lvl_2.head(4)"
   ]
  },
  {
   "cell_type": "code",
   "execution_count": 28,
   "metadata": {},
   "outputs": [
    {
     "data": {
      "text/plain": [
       "0.1251064256022437"
      ]
     },
     "execution_count": 28,
     "metadata": {},
     "output_type": "execute_result"
    }
   ],
   "source": [
    "#доля купленных товаров среди кандидатов\n",
    "targets_lvl_2['target'].mean()"
   ]
  },
  {
   "cell_type": "markdown",
   "metadata": {},
   "source": [
    "### B) Подготовка фичей для обучения модели"
   ]
  },
  {
   "cell_type": "code",
   "execution_count": 29,
   "metadata": {},
   "outputs": [
    {
     "data": {
      "text/html": [
       "<div>\n",
       "<style scoped>\n",
       "    .dataframe tbody tr th:only-of-type {\n",
       "        vertical-align: middle;\n",
       "    }\n",
       "\n",
       "    .dataframe tbody tr th {\n",
       "        vertical-align: top;\n",
       "    }\n",
       "\n",
       "    .dataframe thead th {\n",
       "        text-align: right;\n",
       "    }\n",
       "</style>\n",
       "<table border=\"1\" class=\"dataframe\">\n",
       "  <thead>\n",
       "    <tr style=\"text-align: right;\">\n",
       "      <th></th>\n",
       "      <th>user_id</th>\n",
       "      <th>basket_id</th>\n",
       "      <th>day</th>\n",
       "      <th>item_id</th>\n",
       "      <th>quantity</th>\n",
       "      <th>sales_value</th>\n",
       "      <th>store_id</th>\n",
       "      <th>retail_disc</th>\n",
       "      <th>trans_time</th>\n",
       "      <th>week_no</th>\n",
       "      <th>coupon_disc</th>\n",
       "      <th>coupon_match_disc</th>\n",
       "    </tr>\n",
       "  </thead>\n",
       "  <tbody>\n",
       "    <tr>\n",
       "      <th>2104867</th>\n",
       "      <td>2070</td>\n",
       "      <td>40618492260</td>\n",
       "      <td>594</td>\n",
       "      <td>1019940</td>\n",
       "      <td>1</td>\n",
       "      <td>1.00</td>\n",
       "      <td>311</td>\n",
       "      <td>-0.29</td>\n",
       "      <td>40</td>\n",
       "      <td>86</td>\n",
       "      <td>0.0</td>\n",
       "      <td>0.0</td>\n",
       "    </tr>\n",
       "    <tr>\n",
       "      <th>2107468</th>\n",
       "      <td>2021</td>\n",
       "      <td>40618753059</td>\n",
       "      <td>594</td>\n",
       "      <td>840361</td>\n",
       "      <td>1</td>\n",
       "      <td>0.99</td>\n",
       "      <td>443</td>\n",
       "      <td>0.00</td>\n",
       "      <td>101</td>\n",
       "      <td>86</td>\n",
       "      <td>0.0</td>\n",
       "      <td>0.0</td>\n",
       "    </tr>\n",
       "    <tr>\n",
       "      <th>2107469</th>\n",
       "      <td>2021</td>\n",
       "      <td>40618753059</td>\n",
       "      <td>594</td>\n",
       "      <td>856060</td>\n",
       "      <td>1</td>\n",
       "      <td>1.77</td>\n",
       "      <td>443</td>\n",
       "      <td>-0.09</td>\n",
       "      <td>101</td>\n",
       "      <td>86</td>\n",
       "      <td>0.0</td>\n",
       "      <td>0.0</td>\n",
       "    </tr>\n",
       "  </tbody>\n",
       "</table>\n",
       "</div>"
      ],
      "text/plain": [
       "         user_id    basket_id  day  item_id  quantity  sales_value  store_id  \\\n",
       "2104867     2070  40618492260  594  1019940         1         1.00       311   \n",
       "2107468     2021  40618753059  594   840361         1         0.99       443   \n",
       "2107469     2021  40618753059  594   856060         1         1.77       443   \n",
       "\n",
       "         retail_disc  trans_time  week_no  coupon_disc  coupon_match_disc  \n",
       "2104867        -0.29          40       86          0.0                0.0  \n",
       "2107468         0.00         101       86          0.0                0.0  \n",
       "2107469        -0.09         101       86          0.0                0.0  "
      ]
     },
     "execution_count": 29,
     "metadata": {},
     "output_type": "execute_result"
    }
   ],
   "source": [
    "#генерируем новые признаки из датасета data_train_lvl_2\n",
    "data_train_lvl_2.head(3)"
   ]
  },
  {
   "cell_type": "code",
   "execution_count": 30,
   "metadata": {},
   "outputs": [
    {
     "data": {
      "text/html": [
       "<div>\n",
       "<style scoped>\n",
       "    .dataframe tbody tr th:only-of-type {\n",
       "        vertical-align: middle;\n",
       "    }\n",
       "\n",
       "    .dataframe tbody tr th {\n",
       "        vertical-align: top;\n",
       "    }\n",
       "\n",
       "    .dataframe thead th {\n",
       "        text-align: right;\n",
       "    }\n",
       "</style>\n",
       "<table border=\"1\" class=\"dataframe\">\n",
       "  <thead>\n",
       "    <tr style=\"text-align: right;\">\n",
       "      <th></th>\n",
       "      <th>age_desc</th>\n",
       "      <th>marital_status_code</th>\n",
       "      <th>income_desc</th>\n",
       "      <th>homeowner_desc</th>\n",
       "      <th>hh_comp_desc</th>\n",
       "      <th>household_size_desc</th>\n",
       "      <th>kid_category_desc</th>\n",
       "      <th>user_id</th>\n",
       "    </tr>\n",
       "  </thead>\n",
       "  <tbody>\n",
       "    <tr>\n",
       "      <th>0</th>\n",
       "      <td>65+</td>\n",
       "      <td>A</td>\n",
       "      <td>35-49K</td>\n",
       "      <td>Homeowner</td>\n",
       "      <td>2 Adults No Kids</td>\n",
       "      <td>2</td>\n",
       "      <td>None/Unknown</td>\n",
       "      <td>1</td>\n",
       "    </tr>\n",
       "    <tr>\n",
       "      <th>1</th>\n",
       "      <td>45-54</td>\n",
       "      <td>A</td>\n",
       "      <td>50-74K</td>\n",
       "      <td>Homeowner</td>\n",
       "      <td>2 Adults No Kids</td>\n",
       "      <td>2</td>\n",
       "      <td>None/Unknown</td>\n",
       "      <td>7</td>\n",
       "    </tr>\n",
       "    <tr>\n",
       "      <th>2</th>\n",
       "      <td>25-34</td>\n",
       "      <td>U</td>\n",
       "      <td>25-34K</td>\n",
       "      <td>Unknown</td>\n",
       "      <td>2 Adults Kids</td>\n",
       "      <td>3</td>\n",
       "      <td>1</td>\n",
       "      <td>8</td>\n",
       "    </tr>\n",
       "  </tbody>\n",
       "</table>\n",
       "</div>"
      ],
      "text/plain": [
       "  age_desc marital_status_code income_desc homeowner_desc      hh_comp_desc  \\\n",
       "0      65+                   A      35-49K      Homeowner  2 Adults No Kids   \n",
       "1    45-54                   A      50-74K      Homeowner  2 Adults No Kids   \n",
       "2    25-34                   U      25-34K        Unknown     2 Adults Kids   \n",
       "\n",
       "  household_size_desc kid_category_desc  user_id  \n",
       "0                   2      None/Unknown        1  \n",
       "1                   2      None/Unknown        7  \n",
       "2                   3                 1        8  "
      ]
     },
     "execution_count": 30,
     "metadata": {},
     "output_type": "execute_result"
    }
   ],
   "source": [
    "user_features.head(3)"
   ]
  },
  {
   "cell_type": "code",
   "execution_count": 31,
   "metadata": {
    "scrolled": true
   },
   "outputs": [
    {
     "data": {
      "text/html": [
       "<div>\n",
       "<style scoped>\n",
       "    .dataframe tbody tr th:only-of-type {\n",
       "        vertical-align: middle;\n",
       "    }\n",
       "\n",
       "    .dataframe tbody tr th {\n",
       "        vertical-align: top;\n",
       "    }\n",
       "\n",
       "    .dataframe thead th {\n",
       "        text-align: right;\n",
       "    }\n",
       "</style>\n",
       "<table border=\"1\" class=\"dataframe\">\n",
       "  <thead>\n",
       "    <tr style=\"text-align: right;\">\n",
       "      <th></th>\n",
       "      <th>item_id</th>\n",
       "      <th>manufacturer</th>\n",
       "      <th>department</th>\n",
       "      <th>brand</th>\n",
       "      <th>commodity_desc</th>\n",
       "      <th>sub_commodity_desc</th>\n",
       "      <th>curr_size_of_product</th>\n",
       "    </tr>\n",
       "  </thead>\n",
       "  <tbody>\n",
       "    <tr>\n",
       "      <th>0</th>\n",
       "      <td>25671</td>\n",
       "      <td>2</td>\n",
       "      <td>GROCERY</td>\n",
       "      <td>National</td>\n",
       "      <td>FRZN ICE</td>\n",
       "      <td>ICE - CRUSHED/CUBED</td>\n",
       "      <td>22 LB</td>\n",
       "    </tr>\n",
       "    <tr>\n",
       "      <th>1</th>\n",
       "      <td>26081</td>\n",
       "      <td>2</td>\n",
       "      <td>MISC. TRANS.</td>\n",
       "      <td>National</td>\n",
       "      <td>NO COMMODITY DESCRIPTION</td>\n",
       "      <td>NO SUBCOMMODITY DESCRIPTION</td>\n",
       "      <td></td>\n",
       "    </tr>\n",
       "    <tr>\n",
       "      <th>2</th>\n",
       "      <td>26093</td>\n",
       "      <td>69</td>\n",
       "      <td>PASTRY</td>\n",
       "      <td>Private</td>\n",
       "      <td>BREAD</td>\n",
       "      <td>BREAD:ITALIAN/FRENCH</td>\n",
       "      <td></td>\n",
       "    </tr>\n",
       "  </tbody>\n",
       "</table>\n",
       "</div>"
      ],
      "text/plain": [
       "   item_id  manufacturer    department     brand            commodity_desc  \\\n",
       "0    25671             2       GROCERY  National                  FRZN ICE   \n",
       "1    26081             2  MISC. TRANS.  National  NO COMMODITY DESCRIPTION   \n",
       "2    26093            69        PASTRY   Private                     BREAD   \n",
       "\n",
       "            sub_commodity_desc curr_size_of_product  \n",
       "0          ICE - CRUSHED/CUBED                22 LB  \n",
       "1  NO SUBCOMMODITY DESCRIPTION                       \n",
       "2         BREAD:ITALIAN/FRENCH                       "
      ]
     },
     "execution_count": 31,
     "metadata": {},
     "output_type": "execute_result"
    }
   ],
   "source": [
    "item_features.head(3)"
   ]
  },
  {
   "cell_type": "markdown",
   "metadata": {},
   "source": [
    "Функии для построения новых признаков"
   ]
  },
  {
   "cell_type": "code",
   "execution_count": 32,
   "metadata": {},
   "outputs": [],
   "source": [
    "#Фичи user_id\n",
    "def new_user_features(data, user_features, item_features):\n",
    "    \n",
    "    new_user_features = user_features.merge(data, on='user_id', how='left')\n",
    "    new_item_features = data.merge(item_features, on='item_id', how='left')\n",
    "    \n",
    "    #Средний чек\n",
    "    average_check = new_user_features.groupby(['user_id'])['sales_value'].mean().reset_index()\n",
    "    average_check.rename(columns={'sales_value': 'average_sales_value'}, inplace=True)\n",
    "    user_features = user_features.merge(average_check)\n",
    "\n",
    "     \n",
    "    #Количество уникальных категорий покупателя\n",
    "    num_unique_department = new_item_features.groupby(['user_id'])['department'].nunique().reset_index()\n",
    "    num_unique_department.rename(columns={'department': 'num_unique_department'}, inplace=True)\n",
    "    user_features = user_features.merge(num_unique_department, on='user_id', how='left')\n",
    "    \n",
    "   \n",
    "    #Количество покупок в каждой категории\n",
    "    num_sales_in_category = new_item_features[['user_id', 'quantity', 'department']].groupby(['user_id', 'department']).sum().reset_index()\n",
    "    num_sales_in_category.rename(columns={'quantity': 'num_quantity'}, inplace=True) \n",
    "    num_sales_in_category.drop(labels=[0], axis=0,inplace=True)\n",
    "\n",
    "    users_num_cat_sales_dict = {}\n",
    "    for user_id in num_sales_in_category['user_id'].unique():\n",
    "        users_num_cat_sales_dict[user_id] = dict(list(zip(num_sales_in_category[num_sales_in_category['user_id']==user_id]['department'].values, \\\n",
    "                                                      num_sales_in_category[num_sales_in_category['user_id']==user_id]['num_quantity'].values)))\n",
    "\n",
    "    for cat in item_features['department'].unique():\n",
    "        new_item_features[f'num_sales_in_{cat}'] = 0\n",
    "\n",
    "    for user_id in new_item_features['user_id'].unique():\n",
    "        for cat in users_num_cat_sales_dict[user_id].keys():\n",
    "            new_item_features.loc[(new_item_features['user_id']==user_id) & (new_item_features['department']==cat), f'num_sales_in_{cat}']=\\\n",
    "            users_num_cat_sales_dict[user_id][cat]\n",
    "\n",
    "    feat_to_merge = ['user_id'] + new_item_features.columns.tolist()[18:]\n",
    "    user_num_sales_in_cat = new_item_features[feat_to_merge]\n",
    "    user_num_sales_in_cat = user_num_sales_in_cat.groupby('user_id').max().reset_index()\n",
    "    user_features = user_features.merge(user_num_sales_in_cat, on='user_id', how='left')\n",
    "    \n",
    "    user_features = user_features.replace(np.nan, 0)\n",
    "    user_features = user_features.drop('num_sales_in_ ', axis=1)\n",
    "    \n",
    "    return user_features"
   ]
  },
  {
   "cell_type": "code",
   "execution_count": 33,
   "metadata": {},
   "outputs": [
    {
     "name": "stdout",
     "output_type": "stream",
     "text": [
      "Wall time: 1min 53s\n"
     ]
    },
    {
     "data": {
      "text/html": [
       "<div>\n",
       "<style scoped>\n",
       "    .dataframe tbody tr th:only-of-type {\n",
       "        vertical-align: middle;\n",
       "    }\n",
       "\n",
       "    .dataframe tbody tr th {\n",
       "        vertical-align: top;\n",
       "    }\n",
       "\n",
       "    .dataframe thead th {\n",
       "        text-align: right;\n",
       "    }\n",
       "</style>\n",
       "<table border=\"1\" class=\"dataframe\">\n",
       "  <thead>\n",
       "    <tr style=\"text-align: right;\">\n",
       "      <th></th>\n",
       "      <th>age_desc</th>\n",
       "      <th>marital_status_code</th>\n",
       "      <th>income_desc</th>\n",
       "      <th>homeowner_desc</th>\n",
       "      <th>hh_comp_desc</th>\n",
       "      <th>household_size_desc</th>\n",
       "      <th>kid_category_desc</th>\n",
       "      <th>user_id</th>\n",
       "      <th>average_sales_value</th>\n",
       "      <th>num_unique_department</th>\n",
       "      <th>...</th>\n",
       "      <th>num_sales_in_DELI/SNACK BAR</th>\n",
       "      <th>num_sales_in_PORK</th>\n",
       "      <th>num_sales_in_AUTOMOTIVE</th>\n",
       "      <th>num_sales_in_VIDEO RENTAL</th>\n",
       "      <th>num_sales_in_CNTRL/STORE SUP</th>\n",
       "      <th>num_sales_in_HOUSEWARES</th>\n",
       "      <th>num_sales_in_POSTAL CENTER</th>\n",
       "      <th>num_sales_in_PHOTO</th>\n",
       "      <th>num_sales_in_VIDEO</th>\n",
       "      <th>num_sales_in_PHARMACY SUPPLY</th>\n",
       "    </tr>\n",
       "  </thead>\n",
       "  <tbody>\n",
       "    <tr>\n",
       "      <th>0</th>\n",
       "      <td>65+</td>\n",
       "      <td>A</td>\n",
       "      <td>35-49K</td>\n",
       "      <td>Homeowner</td>\n",
       "      <td>2 Adults No Kids</td>\n",
       "      <td>2</td>\n",
       "      <td>None/Unknown</td>\n",
       "      <td>1</td>\n",
       "      <td>2.569774</td>\n",
       "      <td>9.0</td>\n",
       "      <td>...</td>\n",
       "      <td>0.0</td>\n",
       "      <td>0.0</td>\n",
       "      <td>0.0</td>\n",
       "      <td>0.0</td>\n",
       "      <td>0.0</td>\n",
       "      <td>0.0</td>\n",
       "      <td>0.0</td>\n",
       "      <td>0.0</td>\n",
       "      <td>0.0</td>\n",
       "      <td>0.0</td>\n",
       "    </tr>\n",
       "    <tr>\n",
       "      <th>1</th>\n",
       "      <td>45-54</td>\n",
       "      <td>A</td>\n",
       "      <td>50-74K</td>\n",
       "      <td>Homeowner</td>\n",
       "      <td>2 Adults No Kids</td>\n",
       "      <td>2</td>\n",
       "      <td>None/Unknown</td>\n",
       "      <td>7</td>\n",
       "      <td>2.085000</td>\n",
       "      <td>8.0</td>\n",
       "      <td>...</td>\n",
       "      <td>0.0</td>\n",
       "      <td>0.0</td>\n",
       "      <td>0.0</td>\n",
       "      <td>0.0</td>\n",
       "      <td>0.0</td>\n",
       "      <td>0.0</td>\n",
       "      <td>0.0</td>\n",
       "      <td>0.0</td>\n",
       "      <td>0.0</td>\n",
       "      <td>0.0</td>\n",
       "    </tr>\n",
       "    <tr>\n",
       "      <th>2</th>\n",
       "      <td>25-34</td>\n",
       "      <td>U</td>\n",
       "      <td>25-34K</td>\n",
       "      <td>Unknown</td>\n",
       "      <td>2 Adults Kids</td>\n",
       "      <td>3</td>\n",
       "      <td>1</td>\n",
       "      <td>8</td>\n",
       "      <td>2.472683</td>\n",
       "      <td>9.0</td>\n",
       "      <td>...</td>\n",
       "      <td>0.0</td>\n",
       "      <td>0.0</td>\n",
       "      <td>0.0</td>\n",
       "      <td>0.0</td>\n",
       "      <td>0.0</td>\n",
       "      <td>0.0</td>\n",
       "      <td>0.0</td>\n",
       "      <td>0.0</td>\n",
       "      <td>0.0</td>\n",
       "      <td>0.0</td>\n",
       "    </tr>\n",
       "  </tbody>\n",
       "</table>\n",
       "<p>3 rows × 53 columns</p>\n",
       "</div>"
      ],
      "text/plain": [
       "  age_desc marital_status_code income_desc homeowner_desc      hh_comp_desc  \\\n",
       "0      65+                   A      35-49K      Homeowner  2 Adults No Kids   \n",
       "1    45-54                   A      50-74K      Homeowner  2 Adults No Kids   \n",
       "2    25-34                   U      25-34K        Unknown     2 Adults Kids   \n",
       "\n",
       "  household_size_desc kid_category_desc  user_id  average_sales_value  \\\n",
       "0                   2      None/Unknown        1             2.569774   \n",
       "1                   2      None/Unknown        7             2.085000   \n",
       "2                   3                 1        8             2.472683   \n",
       "\n",
       "   num_unique_department  ...  num_sales_in_DELI/SNACK BAR  num_sales_in_PORK  \\\n",
       "0                    9.0  ...                          0.0                0.0   \n",
       "1                    8.0  ...                          0.0                0.0   \n",
       "2                    9.0  ...                          0.0                0.0   \n",
       "\n",
       "   num_sales_in_AUTOMOTIVE  num_sales_in_VIDEO RENTAL  \\\n",
       "0                      0.0                        0.0   \n",
       "1                      0.0                        0.0   \n",
       "2                      0.0                        0.0   \n",
       "\n",
       "   num_sales_in_CNTRL/STORE SUP  num_sales_in_HOUSEWARES  \\\n",
       "0                           0.0                      0.0   \n",
       "1                           0.0                      0.0   \n",
       "2                           0.0                      0.0   \n",
       "\n",
       "   num_sales_in_POSTAL CENTER  num_sales_in_PHOTO  num_sales_in_VIDEO  \\\n",
       "0                         0.0                 0.0                 0.0   \n",
       "1                         0.0                 0.0                 0.0   \n",
       "2                         0.0                 0.0                 0.0   \n",
       "\n",
       "   num_sales_in_PHARMACY SUPPLY  \n",
       "0                           0.0  \n",
       "1                           0.0  \n",
       "2                           0.0  \n",
       "\n",
       "[3 rows x 53 columns]"
      ]
     },
     "execution_count": 33,
     "metadata": {},
     "output_type": "execute_result"
    }
   ],
   "source": [
    "%%time\n",
    "\n",
    "user_features_new = new_user_features(data_train_lvl_2, user_features, item_features)\n",
    "user_features_new.head(3)"
   ]
  },
  {
   "cell_type": "code",
   "execution_count": 34,
   "metadata": {},
   "outputs": [],
   "source": [
    "#Фичи item_id\n",
    "def new_item_features(data, user_features, item_features):\n",
    "    \n",
    "    new_item_features = item_features.merge(data, on='item_id', how='left')\n",
    "    \n",
    "    # Цена\n",
    "    price = new_item_features.groupby('item_id')['sales_value'].sum() \\\n",
    "                            / new_item_features.groupby('item_id')['quantity'].sum()\n",
    "    price = price.groupby('item_id').mean().reset_index()\n",
    "    price.columns = ['item_id', 'price']\n",
    "    price['price'].fillna(0, inplace= True)\n",
    "    item_features = item_features.merge(price)\n",
    "\n",
    "    #Среднее число покупок товара в неделю\n",
    "    num_purchase_week = data.groupby(['item_id']).agg({'week_no': 'nunique', 'quantity': 'sum'}).reset_index()\n",
    "    num_purchase_week['average_num_purchases_week'] = num_purchase_week['quantity'] / num_purchase_week['week_no']\n",
    "    average_num_purchases_week = num_purchase_week[['item_id', 'average_num_purchases_week']]\n",
    "    item_features = item_features.merge(average_num_purchases_week, on='item_id', how='left')\n",
    "    item_features['average_num_purchases_week'].fillna(0, inplace= True)\n",
    "    \n",
    "    #Средняя цена товара в категории\n",
    "    average_price_in_cat = item_features.groupby(['department'])['price'].mean().reset_index()\n",
    "    average_price_in_cat.rename(columns={'price': 'average_price_in_dep'}, inplace=True)\n",
    "    average_price_in_cat.drop(labels=[0], axis=0,inplace=True)\n",
    "    item_features = item_features.merge(average_price_in_cat)\n",
    "    \n",
    "    #Цена товара/средняя цена товара в категории\n",
    "    item_features['price/average_price_in_dep'] = item_features['price'] / item_features['average_price_in_dep']\n",
    "    \n",
    "    #Средняя цена товара в категории - Цена товара\n",
    "    item_features['average_price_in_dep - item_price'] = item_features['average_price_in_dep'] - item_features['price']\n",
    "\n",
    "    return item_features"
   ]
  },
  {
   "cell_type": "code",
   "execution_count": 35,
   "metadata": {},
   "outputs": [
    {
     "name": "stdout",
     "output_type": "stream",
     "text": [
      "Wall time: 270 ms\n"
     ]
    },
    {
     "data": {
      "text/html": [
       "<div>\n",
       "<style scoped>\n",
       "    .dataframe tbody tr th:only-of-type {\n",
       "        vertical-align: middle;\n",
       "    }\n",
       "\n",
       "    .dataframe tbody tr th {\n",
       "        vertical-align: top;\n",
       "    }\n",
       "\n",
       "    .dataframe thead th {\n",
       "        text-align: right;\n",
       "    }\n",
       "</style>\n",
       "<table border=\"1\" class=\"dataframe\">\n",
       "  <thead>\n",
       "    <tr style=\"text-align: right;\">\n",
       "      <th></th>\n",
       "      <th>item_id</th>\n",
       "      <th>manufacturer</th>\n",
       "      <th>department</th>\n",
       "      <th>brand</th>\n",
       "      <th>commodity_desc</th>\n",
       "      <th>sub_commodity_desc</th>\n",
       "      <th>curr_size_of_product</th>\n",
       "      <th>price</th>\n",
       "      <th>average_num_purchases_week</th>\n",
       "      <th>average_price_in_dep</th>\n",
       "      <th>price/average_price_in_dep</th>\n",
       "      <th>average_price_in_dep - item_price</th>\n",
       "    </tr>\n",
       "  </thead>\n",
       "  <tbody>\n",
       "    <tr>\n",
       "      <th>0</th>\n",
       "      <td>25671</td>\n",
       "      <td>2</td>\n",
       "      <td>GROCERY</td>\n",
       "      <td>National</td>\n",
       "      <td>FRZN ICE</td>\n",
       "      <td>ICE - CRUSHED/CUBED</td>\n",
       "      <td>22 LB</td>\n",
       "      <td>0.0</td>\n",
       "      <td>0.0</td>\n",
       "      <td>1.043754</td>\n",
       "      <td>0.0</td>\n",
       "      <td>1.043754</td>\n",
       "    </tr>\n",
       "    <tr>\n",
       "      <th>1</th>\n",
       "      <td>26190</td>\n",
       "      <td>69</td>\n",
       "      <td>GROCERY</td>\n",
       "      <td>Private</td>\n",
       "      <td>FRUIT - SHELF STABLE</td>\n",
       "      <td>APPLE SAUCE</td>\n",
       "      <td>50 OZ</td>\n",
       "      <td>0.0</td>\n",
       "      <td>0.0</td>\n",
       "      <td>1.043754</td>\n",
       "      <td>0.0</td>\n",
       "      <td>1.043754</td>\n",
       "    </tr>\n",
       "    <tr>\n",
       "      <th>2</th>\n",
       "      <td>26355</td>\n",
       "      <td>69</td>\n",
       "      <td>GROCERY</td>\n",
       "      <td>Private</td>\n",
       "      <td>COOKIES/CONES</td>\n",
       "      <td>SPECIALTY COOKIES</td>\n",
       "      <td>14 OZ</td>\n",
       "      <td>0.0</td>\n",
       "      <td>0.0</td>\n",
       "      <td>1.043754</td>\n",
       "      <td>0.0</td>\n",
       "      <td>1.043754</td>\n",
       "    </tr>\n",
       "  </tbody>\n",
       "</table>\n",
       "</div>"
      ],
      "text/plain": [
       "   item_id  manufacturer department     brand        commodity_desc  \\\n",
       "0    25671             2    GROCERY  National              FRZN ICE   \n",
       "1    26190            69    GROCERY   Private  FRUIT - SHELF STABLE   \n",
       "2    26355            69    GROCERY   Private         COOKIES/CONES   \n",
       "\n",
       "    sub_commodity_desc curr_size_of_product  price  \\\n",
       "0  ICE - CRUSHED/CUBED                22 LB    0.0   \n",
       "1          APPLE SAUCE                50 OZ    0.0   \n",
       "2    SPECIALTY COOKIES                14 OZ    0.0   \n",
       "\n",
       "   average_num_purchases_week  average_price_in_dep  \\\n",
       "0                         0.0              1.043754   \n",
       "1                         0.0              1.043754   \n",
       "2                         0.0              1.043754   \n",
       "\n",
       "   price/average_price_in_dep  average_price_in_dep - item_price  \n",
       "0                         0.0                           1.043754  \n",
       "1                         0.0                           1.043754  \n",
       "2                         0.0                           1.043754  "
      ]
     },
     "execution_count": 35,
     "metadata": {},
     "output_type": "execute_result"
    }
   ],
   "source": [
    "%%time\n",
    "\n",
    "item_features_new = new_item_features(data_train_lvl_2, user_features, item_features)\n",
    "item_features_new.head(3)"
   ]
  },
  {
   "cell_type": "markdown",
   "metadata": {},
   "source": [
    "Объединяем два датасета с новыми признаками"
   ]
  },
  {
   "cell_type": "code",
   "execution_count": 36,
   "metadata": {
    "scrolled": true
   },
   "outputs": [
    {
     "data": {
      "text/html": [
       "<div>\n",
       "<style scoped>\n",
       "    .dataframe tbody tr th:only-of-type {\n",
       "        vertical-align: middle;\n",
       "    }\n",
       "\n",
       "    .dataframe tbody tr th {\n",
       "        vertical-align: top;\n",
       "    }\n",
       "\n",
       "    .dataframe thead th {\n",
       "        text-align: right;\n",
       "    }\n",
       "</style>\n",
       "<table border=\"1\" class=\"dataframe\">\n",
       "  <thead>\n",
       "    <tr style=\"text-align: right;\">\n",
       "      <th></th>\n",
       "      <th>user_id</th>\n",
       "      <th>item_id</th>\n",
       "      <th>target</th>\n",
       "      <th>manufacturer</th>\n",
       "      <th>department</th>\n",
       "      <th>brand</th>\n",
       "      <th>commodity_desc</th>\n",
       "      <th>sub_commodity_desc</th>\n",
       "      <th>curr_size_of_product</th>\n",
       "      <th>price</th>\n",
       "      <th>...</th>\n",
       "      <th>num_sales_in_DELI/SNACK BAR</th>\n",
       "      <th>num_sales_in_PORK</th>\n",
       "      <th>num_sales_in_AUTOMOTIVE</th>\n",
       "      <th>num_sales_in_VIDEO RENTAL</th>\n",
       "      <th>num_sales_in_CNTRL/STORE SUP</th>\n",
       "      <th>num_sales_in_HOUSEWARES</th>\n",
       "      <th>num_sales_in_POSTAL CENTER</th>\n",
       "      <th>num_sales_in_PHOTO</th>\n",
       "      <th>num_sales_in_VIDEO</th>\n",
       "      <th>num_sales_in_PHARMACY SUPPLY</th>\n",
       "    </tr>\n",
       "  </thead>\n",
       "  <tbody>\n",
       "    <tr>\n",
       "      <th>0</th>\n",
       "      <td>2070</td>\n",
       "      <td>834103</td>\n",
       "      <td>1.0</td>\n",
       "      <td>2224</td>\n",
       "      <td>GROCERY</td>\n",
       "      <td>National</td>\n",
       "      <td>SOFT DRINKS</td>\n",
       "      <td>SFT DRNK SNGL SRV BTL CARB (EX</td>\n",
       "      <td>20 OZ</td>\n",
       "      <td>1.0</td>\n",
       "      <td>...</td>\n",
       "      <td>0.0</td>\n",
       "      <td>0.0</td>\n",
       "      <td>0.0</td>\n",
       "      <td>0.0</td>\n",
       "      <td>0.0</td>\n",
       "      <td>0.0</td>\n",
       "      <td>0.0</td>\n",
       "      <td>0.0</td>\n",
       "      <td>0.0</td>\n",
       "      <td>0.0</td>\n",
       "    </tr>\n",
       "    <tr>\n",
       "      <th>1</th>\n",
       "      <td>2070</td>\n",
       "      <td>834103</td>\n",
       "      <td>1.0</td>\n",
       "      <td>2224</td>\n",
       "      <td>GROCERY</td>\n",
       "      <td>National</td>\n",
       "      <td>SOFT DRINKS</td>\n",
       "      <td>SFT DRNK SNGL SRV BTL CARB (EX</td>\n",
       "      <td>20 OZ</td>\n",
       "      <td>1.0</td>\n",
       "      <td>...</td>\n",
       "      <td>0.0</td>\n",
       "      <td>0.0</td>\n",
       "      <td>0.0</td>\n",
       "      <td>0.0</td>\n",
       "      <td>0.0</td>\n",
       "      <td>0.0</td>\n",
       "      <td>0.0</td>\n",
       "      <td>0.0</td>\n",
       "      <td>0.0</td>\n",
       "      <td>0.0</td>\n",
       "    </tr>\n",
       "    <tr>\n",
       "      <th>2</th>\n",
       "      <td>2070</td>\n",
       "      <td>834103</td>\n",
       "      <td>1.0</td>\n",
       "      <td>2224</td>\n",
       "      <td>GROCERY</td>\n",
       "      <td>National</td>\n",
       "      <td>SOFT DRINKS</td>\n",
       "      <td>SFT DRNK SNGL SRV BTL CARB (EX</td>\n",
       "      <td>20 OZ</td>\n",
       "      <td>1.0</td>\n",
       "      <td>...</td>\n",
       "      <td>0.0</td>\n",
       "      <td>0.0</td>\n",
       "      <td>0.0</td>\n",
       "      <td>0.0</td>\n",
       "      <td>0.0</td>\n",
       "      <td>0.0</td>\n",
       "      <td>0.0</td>\n",
       "      <td>0.0</td>\n",
       "      <td>0.0</td>\n",
       "      <td>0.0</td>\n",
       "    </tr>\n",
       "  </tbody>\n",
       "</table>\n",
       "<p>3 rows × 66 columns</p>\n",
       "</div>"
      ],
      "text/plain": [
       "   user_id  item_id  target  manufacturer department     brand commodity_desc  \\\n",
       "0     2070   834103     1.0          2224    GROCERY  National    SOFT DRINKS   \n",
       "1     2070   834103     1.0          2224    GROCERY  National    SOFT DRINKS   \n",
       "2     2070   834103     1.0          2224    GROCERY  National    SOFT DRINKS   \n",
       "\n",
       "               sub_commodity_desc curr_size_of_product  price  ...  \\\n",
       "0  SFT DRNK SNGL SRV BTL CARB (EX                20 OZ    1.0  ...   \n",
       "1  SFT DRNK SNGL SRV BTL CARB (EX                20 OZ    1.0  ...   \n",
       "2  SFT DRNK SNGL SRV BTL CARB (EX                20 OZ    1.0  ...   \n",
       "\n",
       "   num_sales_in_DELI/SNACK BAR  num_sales_in_PORK  num_sales_in_AUTOMOTIVE  \\\n",
       "0                          0.0                0.0                      0.0   \n",
       "1                          0.0                0.0                      0.0   \n",
       "2                          0.0                0.0                      0.0   \n",
       "\n",
       "   num_sales_in_VIDEO RENTAL num_sales_in_CNTRL/STORE SUP  \\\n",
       "0                        0.0                          0.0   \n",
       "1                        0.0                          0.0   \n",
       "2                        0.0                          0.0   \n",
       "\n",
       "  num_sales_in_HOUSEWARES num_sales_in_POSTAL CENTER num_sales_in_PHOTO  \\\n",
       "0                     0.0                        0.0                0.0   \n",
       "1                     0.0                        0.0                0.0   \n",
       "2                     0.0                        0.0                0.0   \n",
       "\n",
       "  num_sales_in_VIDEO num_sales_in_PHARMACY SUPPLY  \n",
       "0                0.0                          0.0  \n",
       "1                0.0                          0.0  \n",
       "2                0.0                          0.0  \n",
       "\n",
       "[3 rows x 66 columns]"
      ]
     },
     "execution_count": 36,
     "metadata": {},
     "output_type": "execute_result"
    }
   ],
   "source": [
    "targets_lvl_2 = targets_lvl_2.merge(item_features_new, on='item_id', how='left')\n",
    "targets_lvl_2 = targets_lvl_2.merge(user_features_new, on='user_id', how='left')\n",
    "\n",
    "targets_lvl_2.head(3)"
   ]
  },
  {
   "cell_type": "markdown",
   "metadata": {},
   "source": [
    "### C) Обучение модели ранжирования (второго уровня)"
   ]
  },
  {
   "cell_type": "code",
   "execution_count": 37,
   "metadata": {},
   "outputs": [
    {
     "data": {
      "text/plain": [
       "((99835, 65), (99835, 1))"
      ]
     },
     "execution_count": 37,
     "metadata": {},
     "output_type": "execute_result"
    }
   ],
   "source": [
    "X_train = targets_lvl_2.drop('target', axis=1)\n",
    "y_train = targets_lvl_2[['target']]\n",
    "X_train.shape, y_train.shape"
   ]
  },
  {
   "cell_type": "code",
   "execution_count": 38,
   "metadata": {},
   "outputs": [
    {
     "data": {
      "text/plain": [
       "['manufacturer',\n",
       " 'department',\n",
       " 'brand',\n",
       " 'commodity_desc',\n",
       " 'sub_commodity_desc',\n",
       " 'curr_size_of_product',\n",
       " 'age_desc',\n",
       " 'marital_status_code',\n",
       " 'income_desc',\n",
       " 'homeowner_desc',\n",
       " 'hh_comp_desc',\n",
       " 'household_size_desc',\n",
       " 'kid_category_desc']"
      ]
     },
     "execution_count": 38,
     "metadata": {},
     "output_type": "execute_result"
    }
   ],
   "source": [
    "cat_feats = X_train.columns[2:8].tolist() + X_train.columns[13:20].tolist()\n",
    "\n",
    "X_train[cat_feats] = X_train[cat_feats].astype('category')\n",
    "\n",
    "cat_feats"
   ]
  },
  {
   "cell_type": "code",
   "execution_count": 39,
   "metadata": {},
   "outputs": [
    {
     "name": "stderr",
     "output_type": "stream",
     "text": [
      "C:\\ProgramData\\Anaconda3\\lib\\site-packages\\sklearn\\utils\\validation.py:63: DataConversionWarning: A column-vector y was passed when a 1d array was expected. Please change the shape of y to (n_samples, ), for example using ravel().\n",
      "  return f(*args, **kwargs)\n",
      "C:\\ProgramData\\Anaconda3\\lib\\site-packages\\lightgbm\\basic.py:1098: UserWarning: categorical_column in param dict is overridden.\n",
      "  warnings.warn('{} in param dict is overridden.'.format(cat_alias))\n"
     ]
    },
    {
     "name": "stdout",
     "output_type": "stream",
     "text": [
      "[LightGBM] [Warning] Accuracy may be bad since you didn't explicitly set num_leaves OR 2^max_depth > num_leaves. (num_leaves=31).\n",
      "Wall time: 2.01 s\n"
     ]
    },
    {
     "data": {
      "text/plain": [
       "LGBMClassifier(categorical_column=['manufacturer', 'department', 'brand',\n",
       "                                   'commodity_desc', 'sub_commodity_desc',\n",
       "                                   'curr_size_of_product', 'age_desc',\n",
       "                                   'marital_status_code', 'income_desc',\n",
       "                                   'homeowner_desc', 'hh_comp_desc',\n",
       "                                   'household_size_desc', 'kid_category_desc'],\n",
       "               learning_rate=0.05, max_depth=8, n_estimators=300,\n",
       "               objective='binary')"
      ]
     },
     "execution_count": 39,
     "metadata": {},
     "output_type": "execute_result"
    }
   ],
   "source": [
    "%%time\n",
    "\n",
    "lgb = LGBMClassifier(objective='binary',\n",
    "                     max_depth=8,\n",
    "                     n_estimators=300,\n",
    "                     learning_rate=0.05,\n",
    "                     categorical_column=cat_feats)\n",
    "\n",
    "lgb.fit(X_train, y_train)"
   ]
  },
  {
   "cell_type": "code",
   "execution_count": 40,
   "metadata": {},
   "outputs": [],
   "source": [
    "def test_X_y_prepare(data, item_features_new, user_features_new):\n",
    "    test_users_lvl_2 = pd.DataFrame(data['user_id'].unique())\n",
    "    test_users_lvl_2.columns = ['user_id']\n",
    "    \n",
    "    test_users = data['user_id'].unique()\n",
    "    test_users_lvl_2 = test_users_lvl_2[test_users_lvl_2['user_id'].isin(test_users)]\n",
    "\n",
    "    test_users_lvl_2['candidates'] = test_users_lvl_2['user_id'].apply(lambda x: recommender.get_own_recommendations(x, N=50))\n",
    "\n",
    "    s = test_users_lvl_2.apply(lambda x: pd.Series(x['candidates']), axis=1).stack().reset_index(level=1, drop=True)\n",
    "    s.name = 'item_id'\n",
    "\n",
    "    test_users_lvl_2 = test_users_lvl_2.drop('candidates', axis=1).join(s)\n",
    "    \n",
    "    test_users_lvl_2['flag'] = 1\n",
    "\n",
    "    test_lvl_2 = data[['user_id', 'item_id']].copy()\n",
    "    \n",
    "    test_lvl_2['target'] = 1  \n",
    "    \n",
    "    test_lvl_2 = test_users_lvl_2.merge(test_lvl_2, on=['user_id', 'item_id'], how='left')\n",
    "\n",
    "    test_lvl_2['target'].fillna(0, inplace= True)\n",
    "    test_lvl_2.drop('flag', axis=1, inplace=True)\n",
    "    \n",
    "    test_lvl_2 = test_lvl_2.merge(item_features_new, on='item_id', how='left')\n",
    "    test_lvl_2 = test_lvl_2.merge(user_features_new, on='user_id', how='left')\n",
    "\n",
    "    X = test_lvl_2.drop('target', axis=1)\n",
    "    y = test_lvl_2[['target']]\n",
    "    \n",
    "    return X, y"
   ]
  },
  {
   "cell_type": "code",
   "execution_count": 41,
   "metadata": {},
   "outputs": [
    {
     "name": "stdout",
     "output_type": "stream",
     "text": [
      "Wall time: 1min 9s\n"
     ]
    }
   ],
   "source": [
    "%%time\n",
    "\n",
    "test_item_features_new = new_item_features(data_val_lvl_2, user_features, item_features)\n",
    "test_user_features_new = new_user_features(data_val_lvl_2, user_features, item_features)"
   ]
  },
  {
   "cell_type": "code",
   "execution_count": 42,
   "metadata": {},
   "outputs": [
    {
     "data": {
      "text/plain": [
       "((97508, 65), (97508, 1))"
      ]
     },
     "execution_count": 42,
     "metadata": {},
     "output_type": "execute_result"
    }
   ],
   "source": [
    "X_test, y_test = test_X_y_prepare(data_val_lvl_2, test_item_features_new, test_user_features_new)\n",
    "X_test[cat_feats] = X_test[cat_feats].astype('category')\n",
    "X_test.shape, y_test.shape"
   ]
  },
  {
   "cell_type": "code",
   "execution_count": 43,
   "metadata": {},
   "outputs": [
    {
     "data": {
      "text/plain": [
       "array([0.16516855, 0.16516855, 0.03759564, ..., 0.03427044, 0.08288554,\n",
       "       0.02528547])"
      ]
     },
     "execution_count": 43,
     "metadata": {},
     "output_type": "execute_result"
    }
   ],
   "source": [
    "test_preds_proba = lgb.predict_proba(X_test)[:, 1]\n",
    "test_preds_proba"
   ]
  },
  {
   "cell_type": "markdown",
   "metadata": {},
   "source": [
    "### D) Оценка качества модели на тестовом датасете"
   ]
  },
  {
   "cell_type": "code",
   "execution_count": 44,
   "metadata": {},
   "outputs": [
    {
     "data": {
      "text/html": [
       "<div>\n",
       "<style scoped>\n",
       "    .dataframe tbody tr th:only-of-type {\n",
       "        vertical-align: middle;\n",
       "    }\n",
       "\n",
       "    .dataframe tbody tr th {\n",
       "        vertical-align: top;\n",
       "    }\n",
       "\n",
       "    .dataframe thead th {\n",
       "        text-align: right;\n",
       "    }\n",
       "</style>\n",
       "<table border=\"1\" class=\"dataframe\">\n",
       "  <thead>\n",
       "    <tr style=\"text-align: right;\">\n",
       "      <th></th>\n",
       "      <th>user_id</th>\n",
       "      <th>actual</th>\n",
       "    </tr>\n",
       "  </thead>\n",
       "  <tbody>\n",
       "    <tr>\n",
       "      <th>0</th>\n",
       "      <td>1</td>\n",
       "      <td>[821867, 834484, 856942, 865456, 889248, 90795...</td>\n",
       "    </tr>\n",
       "    <tr>\n",
       "      <th>1</th>\n",
       "      <td>6</td>\n",
       "      <td>[920308, 926804, 946489, 1006718, 1017061, 107...</td>\n",
       "    </tr>\n",
       "  </tbody>\n",
       "</table>\n",
       "</div>"
      ],
      "text/plain": [
       "   user_id                                             actual\n",
       "0        1  [821867, 834484, 856942, 865456, 889248, 90795...\n",
       "1        6  [920308, 926804, 946489, 1006718, 1017061, 107..."
      ]
     },
     "execution_count": 44,
     "metadata": {},
     "output_type": "execute_result"
    }
   ],
   "source": [
    "result_eval_lvl_2 = data_val_lvl_2.groupby('user_id')['item_id'].unique().reset_index()\n",
    "result_eval_lvl_2.columns=['user_id', 'actual']\n",
    "result_eval_lvl_2.head(2)"
   ]
  },
  {
   "cell_type": "markdown",
   "metadata": {},
   "source": [
    "Оценка модели первого уровня на тестовом датасете"
   ]
  },
  {
   "cell_type": "code",
   "execution_count": 45,
   "metadata": {},
   "outputs": [
    {
     "name": "stdout",
     "output_type": "stream",
     "text": [
      "Wall time: 5.82 s\n"
     ]
    }
   ],
   "source": [
    "%%time\n",
    "\n",
    "result_eval_lvl_2['own_rec'] = result_eval_lvl_2['user_id'].apply(lambda x: recommender.get_own_recommendations(x, N=50))"
   ]
  },
  {
   "cell_type": "code",
   "execution_count": 46,
   "metadata": {},
   "outputs": [
    {
     "data": {
      "text/plain": [
       "0.16616187989555986"
      ]
     },
     "execution_count": 46,
     "metadata": {},
     "output_type": "execute_result"
    }
   ],
   "source": [
    "# precision@5 модели первого уровня на тестовом датасете\n",
    "own_recommendations_metric_test = result_eval_lvl_2.apply(lambda row: precision_at_k(row[f'own_rec'], row['actual'], 5), axis=1).mean()\n",
    "own_recommendations_metric_test"
   ]
  },
  {
   "cell_type": "markdown",
   "metadata": {},
   "source": [
    "Оценка модели второго уровня на тестовом датасете"
   ]
  },
  {
   "cell_type": "code",
   "execution_count": 47,
   "metadata": {},
   "outputs": [],
   "source": [
    "def lvl_2_recommendations(X_test, test_preds_proba, data_val_lvl_2):\n",
    "    X_test['predict_proba'] = test_preds_proba\n",
    "    \n",
    "    X_test.sort_values(['user_id', 'predict_proba'], ascending=False, inplace=True)\n",
    "\n",
    "    result = X_test.groupby('user_id').head(5)\n",
    "\n",
    "    recs = result.groupby('user_id')['item_id']\n",
    "    recomendations = []\n",
    "    for user, preds in recs:\n",
    "        recomendations.append({'user_id': user, 'ranked_own_rec': preds.tolist()})\n",
    "\n",
    "    recomendations = pd.DataFrame(recomendations)\n",
    "\n",
    "    result_lvl_2 = data_val_lvl_2.groupby('user_id')['item_id'].unique().reset_index()\n",
    "    result_lvl_2.columns=['user_id', 'actual']\n",
    "\n",
    "    result_lvl_2 = result_lvl_2.merge(recomendations)\n",
    "    \n",
    "    return result_lvl_2"
   ]
  },
  {
   "cell_type": "code",
   "execution_count": 48,
   "metadata": {},
   "outputs": [
    {
     "data": {
      "text/html": [
       "<div>\n",
       "<style scoped>\n",
       "    .dataframe tbody tr th:only-of-type {\n",
       "        vertical-align: middle;\n",
       "    }\n",
       "\n",
       "    .dataframe tbody tr th {\n",
       "        vertical-align: top;\n",
       "    }\n",
       "\n",
       "    .dataframe thead th {\n",
       "        text-align: right;\n",
       "    }\n",
       "</style>\n",
       "<table border=\"1\" class=\"dataframe\">\n",
       "  <thead>\n",
       "    <tr style=\"text-align: right;\">\n",
       "      <th></th>\n",
       "      <th>user_id</th>\n",
       "      <th>actual</th>\n",
       "      <th>ranked_own_rec</th>\n",
       "    </tr>\n",
       "  </thead>\n",
       "  <tbody>\n",
       "    <tr>\n",
       "      <th>0</th>\n",
       "      <td>1</td>\n",
       "      <td>[821867, 834484, 856942, 865456, 889248, 90795...</td>\n",
       "      <td>[9527558, 8293439, 8293439, 934369, 8091601]</td>\n",
       "    </tr>\n",
       "    <tr>\n",
       "      <th>1</th>\n",
       "      <td>6</td>\n",
       "      <td>[920308, 926804, 946489, 1006718, 1017061, 107...</td>\n",
       "      <td>[1098844, 1108094, 878715, 1084036, 12757544]</td>\n",
       "    </tr>\n",
       "    <tr>\n",
       "      <th>2</th>\n",
       "      <td>7</td>\n",
       "      <td>[840386, 889774, 898068, 909714, 929067, 95347...</td>\n",
       "      <td>[1122358, 1122358, 1122358, 12731436, 916575]</td>\n",
       "    </tr>\n",
       "    <tr>\n",
       "      <th>3</th>\n",
       "      <td>8</td>\n",
       "      <td>[835098, 872137, 910439, 924610, 992977, 10412...</td>\n",
       "      <td>[969932, 983795, 1115577, 1013503, 1090507]</td>\n",
       "    </tr>\n",
       "    <tr>\n",
       "      <th>4</th>\n",
       "      <td>9</td>\n",
       "      <td>[864335, 990865, 1029743, 9297474, 10457112, 8...</td>\n",
       "      <td>[1082212, 6553737, 868015, 6534030, 982493]</td>\n",
       "    </tr>\n",
       "    <tr>\n",
       "      <th>...</th>\n",
       "      <td>...</td>\n",
       "      <td>...</td>\n",
       "      <td>...</td>\n",
       "    </tr>\n",
       "    <tr>\n",
       "      <th>1910</th>\n",
       "      <td>2496</td>\n",
       "      <td>[6534178]</td>\n",
       "      <td>[953539, 1006664, 996269, 865511, 1082544]</td>\n",
       "    </tr>\n",
       "    <tr>\n",
       "      <th>1911</th>\n",
       "      <td>2497</td>\n",
       "      <td>[1016709, 9835695, 1132298, 16809501, 845294, ...</td>\n",
       "      <td>[942817, 1031316, 864279, 1066685, 849202]</td>\n",
       "    </tr>\n",
       "    <tr>\n",
       "      <th>1912</th>\n",
       "      <td>2498</td>\n",
       "      <td>[15716530, 834484, 901776, 914190, 958382, 972...</td>\n",
       "      <td>[1100379, 851101, 1076580, 918907, 849578]</td>\n",
       "    </tr>\n",
       "    <tr>\n",
       "      <th>1913</th>\n",
       "      <td>2499</td>\n",
       "      <td>[867188, 877580, 902396, 914190, 951590, 95813...</td>\n",
       "      <td>[901460, 6904613, 7166863, 937626, 919766]</td>\n",
       "    </tr>\n",
       "    <tr>\n",
       "      <th>1914</th>\n",
       "      <td>2500</td>\n",
       "      <td>[852182, 856345, 923746, 948670, 1018007, 1044...</td>\n",
       "      <td>[1081853, 7409970, 1065538, 1013389, 5572828]</td>\n",
       "    </tr>\n",
       "  </tbody>\n",
       "</table>\n",
       "<p>1915 rows × 3 columns</p>\n",
       "</div>"
      ],
      "text/plain": [
       "      user_id                                             actual  \\\n",
       "0           1  [821867, 834484, 856942, 865456, 889248, 90795...   \n",
       "1           6  [920308, 926804, 946489, 1006718, 1017061, 107...   \n",
       "2           7  [840386, 889774, 898068, 909714, 929067, 95347...   \n",
       "3           8  [835098, 872137, 910439, 924610, 992977, 10412...   \n",
       "4           9  [864335, 990865, 1029743, 9297474, 10457112, 8...   \n",
       "...       ...                                                ...   \n",
       "1910     2496                                          [6534178]   \n",
       "1911     2497  [1016709, 9835695, 1132298, 16809501, 845294, ...   \n",
       "1912     2498  [15716530, 834484, 901776, 914190, 958382, 972...   \n",
       "1913     2499  [867188, 877580, 902396, 914190, 951590, 95813...   \n",
       "1914     2500  [852182, 856345, 923746, 948670, 1018007, 1044...   \n",
       "\n",
       "                                     ranked_own_rec  \n",
       "0      [9527558, 8293439, 8293439, 934369, 8091601]  \n",
       "1     [1098844, 1108094, 878715, 1084036, 12757544]  \n",
       "2     [1122358, 1122358, 1122358, 12731436, 916575]  \n",
       "3       [969932, 983795, 1115577, 1013503, 1090507]  \n",
       "4       [1082212, 6553737, 868015, 6534030, 982493]  \n",
       "...                                             ...  \n",
       "1910     [953539, 1006664, 996269, 865511, 1082544]  \n",
       "1911     [942817, 1031316, 864279, 1066685, 849202]  \n",
       "1912     [1100379, 851101, 1076580, 918907, 849578]  \n",
       "1913     [901460, 6904613, 7166863, 937626, 919766]  \n",
       "1914  [1081853, 7409970, 1065538, 1013389, 5572828]  \n",
       "\n",
       "[1915 rows x 3 columns]"
      ]
     },
     "execution_count": 48,
     "metadata": {},
     "output_type": "execute_result"
    }
   ],
   "source": [
    "result_lvl_2 = lvl_2_recommendations(X_test, test_preds_proba, data_val_lvl_2)\n",
    "result_lvl_2"
   ]
  },
  {
   "cell_type": "code",
   "execution_count": 49,
   "metadata": {},
   "outputs": [
    {
     "data": {
      "text/plain": [
       "0.19895561357702238"
      ]
     },
     "execution_count": 49,
     "metadata": {},
     "output_type": "execute_result"
    }
   ],
   "source": [
    "# precision@5 модели второго уровня на тестовом датасете\n",
    "ranked_own_recommendations_metric_test = result_lvl_2.apply(lambda row: precision_at_k(row[f'ranked_own_rec'], row['actual'], 5), axis=1).mean()\n",
    "ranked_own_recommendations_metric_test"
   ]
  },
  {
   "cell_type": "markdown",
   "metadata": {},
   "source": [
    "Сводная таблица precision@5 для моделей 1-го уровня и 2-х уровневой модели на test"
   ]
  },
  {
   "cell_type": "code",
   "execution_count": 50,
   "metadata": {},
   "outputs": [
    {
     "data": {
      "text/html": [
       "<div>\n",
       "<style scoped>\n",
       "    .dataframe tbody tr th:only-of-type {\n",
       "        vertical-align: middle;\n",
       "    }\n",
       "\n",
       "    .dataframe tbody tr th {\n",
       "        vertical-align: top;\n",
       "    }\n",
       "\n",
       "    .dataframe thead th {\n",
       "        text-align: right;\n",
       "    }\n",
       "</style>\n",
       "<table border=\"1\" class=\"dataframe\">\n",
       "  <thead>\n",
       "    <tr style=\"text-align: right;\">\n",
       "      <th></th>\n",
       "      <th>own_rec</th>\n",
       "      <th>ranked_own_rec</th>\n",
       "    </tr>\n",
       "  </thead>\n",
       "  <tbody>\n",
       "    <tr>\n",
       "      <th>precision@5</th>\n",
       "      <td>0.166162</td>\n",
       "      <td>0.198956</td>\n",
       "    </tr>\n",
       "  </tbody>\n",
       "</table>\n",
       "</div>"
      ],
      "text/plain": [
       "              own_rec  ranked_own_rec\n",
       "precision@5  0.166162        0.198956"
      ]
     },
     "execution_count": 50,
     "metadata": {},
     "output_type": "execute_result"
    }
   ],
   "source": [
    "metrics_result = pd.DataFrame({'own_rec': [own_recommendations_metric_test],\n",
    "                               'ranked_own_rec': [ranked_own_recommendations_metric_test]}, \n",
    "                              index = {'precision@5'})\n",
    "metrics_result"
   ]
  },
  {
   "cell_type": "markdown",
   "metadata": {},
   "source": [
    "**Вывод:** precision@5 при использовании 2-х уровневой модели вырос. Следовательно, новые признаки оказались полезны."
   ]
  }
 ],
 "metadata": {
  "kernelspec": {
   "display_name": "Python 3",
   "language": "python",
   "name": "python3"
  },
  "language_info": {
   "codemirror_mode": {
    "name": "ipython",
    "version": 3
   },
   "file_extension": ".py",
   "mimetype": "text/x-python",
   "name": "python",
   "nbconvert_exporter": "python",
   "pygments_lexer": "ipython3",
   "version": "3.8.5"
  }
 },
 "nbformat": 4,
 "nbformat_minor": 4
}
