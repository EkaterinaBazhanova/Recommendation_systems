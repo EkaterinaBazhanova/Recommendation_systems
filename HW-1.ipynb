{
 "cells": [
  {
   "cell_type": "code",
   "execution_count": 614,
   "metadata": {},
   "outputs": [],
   "source": [
    "#импорт необходимых библиотек\n",
    "import pandas as pd\n",
    "import numpy as np"
   ]
  },
  {
   "cell_type": "markdown",
   "metadata": {},
   "source": [
    "# Домашнее задание №1"
   ]
  },
  {
   "cell_type": "markdown",
   "metadata": {},
   "source": [
    "[ML-mетрики качества](#part1) \n",
    "\n",
    "[Метрики ранжирования](#part2) \n",
    "\n",
    "[Другие метрики для оценки рекомендаций/ранжирования](#part3)"
   ]
  },
  {
   "cell_type": "markdown",
   "metadata": {},
   "source": [
    "## ML-mетрики качества<a class=\"anchor\" id=\"part1\"></a><center>"
   ]
  },
  {
   "cell_type": "markdown",
   "metadata": {},
   "source": [
    "### 1. Hit rate\n",
    "\n",
    "Hit rate = (был ли хотя бы 1 релевантный (купленный) товар среди рекомендованных)\n",
    "\n",
    "Hit rate@k = (был ли хотя бы 1 релевантный товар среди топ-k рекомендованных)"
   ]
  },
  {
   "cell_type": "code",
   "execution_count": 615,
   "metadata": {},
   "outputs": [],
   "source": [
    "#исходные данные\n",
    "recommended_list = [143, 523, 1134, 991, 27, 1543, 3345, 533, 11, 43] #id товаров\n",
    "bought_list = [143, 523, 1134, 991]"
   ]
  },
  {
   "cell_type": "code",
   "execution_count": 616,
   "metadata": {},
   "outputs": [],
   "source": [
    "#определение\n",
    "def hit_rate(recommended_list, bought_list):\n",
    "    \n",
    "    recommended_list = np.array(recommended_list)\n",
    "    \n",
    "    bought_list = np.array(bought_list)\n",
    "    \n",
    "    flags = np.isin(recommended_list, bought_list) #купленный товар среди рекомендованных\n",
    "    \n",
    "    hit_rate = (flags.sum() > 0) * 1\n",
    "    \n",
    "    return hit_rate\n",
    "\n",
    "\n",
    "def hit_rate_at_k(recommended_list, bought_list, k=5):\n",
    "    \n",
    "    return hit_rate(recommended_list[:k], bought_list)"
   ]
  },
  {
   "cell_type": "code",
   "execution_count": 617,
   "metadata": {},
   "outputs": [
    {
     "data": {
      "text/plain": [
       "1"
      ]
     },
     "execution_count": 617,
     "metadata": {},
     "output_type": "execute_result"
    }
   ],
   "source": [
    "#пример работы\n",
    "hit_rate(recommended_list, bought_list)"
   ]
  },
  {
   "cell_type": "code",
   "execution_count": 618,
   "metadata": {},
   "outputs": [
    {
     "data": {
      "text/plain": [
       "1"
      ]
     },
     "execution_count": 618,
     "metadata": {},
     "output_type": "execute_result"
    }
   ],
   "source": [
    "#пример работы\n",
    "hit_rate_at_k(recommended_list, bought_list, k=5)"
   ]
  },
  {
   "cell_type": "markdown",
   "metadata": {},
   "source": [
    "### 2. Precision\n",
    "\n",
    "*Precision* - доля релевантных товаров среди рекомендованных = Какой % рекомендованных товаров  юзер купил.\n",
    "\n",
    "Precision = количество купленных товаров среди рекомендованных / количество рекомендованных товаров  \n",
    "\n",
    "1) определяем товары среди рекомендованных которые были куплены(flags);\n",
    "\n",
    "2) количество элементов в flags делим на количество рекомендованных товаров.\n",
    "\n",
    "Precision@k = количество купленных товаров среди k-рекомендованных / количество k-рекомендуемых товаров (срез делается только по списку рекомендованных товаров)\n",
    "\n",
    "Money Precision@k = выручка от купленных товаров среди k рекомендованных / выручка от k рекомендованных товаров\n",
    "\n",
    "**P.S.:** Обычно k в precision@k достаточно невелико (5-20) и определяется из бизнес-логики. Например, 5 товаров в e-mail рассылке, 20 ответов на первой странице google и т.д"
   ]
  },
  {
   "cell_type": "code",
   "execution_count": 619,
   "metadata": {},
   "outputs": [],
   "source": [
    "#исходные данные\n",
    "recommended_list = [143, 156, 1134, 991, 27, 1543, 3345, 533, 11, 43] #id товаров\n",
    "prices_recommended = [400, 60, 40, 40, 90, 20, 10, 50, 80, 100]\n",
    "bought_list = [521, 32, 143, 991]"
   ]
  },
  {
   "cell_type": "code",
   "execution_count": 620,
   "metadata": {},
   "outputs": [],
   "source": [
    "#определение\n",
    "def precision(recommended_list, bought_list):\n",
    "    \n",
    "    recommended_list = np.array(recommended_list)\n",
    "    \n",
    "    bought_list = np.array(bought_list)\n",
    "     \n",
    "    flags = np.isin(recommended_list, bought_list) #какие из рекомендованных товаров куплены\n",
    "    \n",
    "    precision = flags.sum() / len(recommended_list)\n",
    "    \n",
    "    return precision\n",
    "\n",
    "\n",
    "def precision_at_k(recommended_list, bought_list, k=5):\n",
    "    \n",
    "    recommended_list = np.array(recommended_list[:k])\n",
    "    \n",
    "    bought_list = np.array(bought_list)\n",
    "        \n",
    "    flags = np.isin(recommended_list, bought_list) * 1\n",
    "    \n",
    "    precision = flags.sum() / len(recommended_list) \n",
    "        \n",
    "    return precision\n",
    "\n",
    "\n",
    "def money_precision_at_k(recommended_list, bought_list, prices_recommended, k=5):\n",
    "    \n",
    "    recommended_list = np.array(recommended_list[:k])\n",
    "    \n",
    "    bought_list = np.array(bought_list)   \n",
    "    \n",
    "    prices_recommended = np.array(prices_recommended[:k])\n",
    "    \n",
    "    flags = np.isin(recommended_list, bought_list) * 1\n",
    "    \n",
    "    precision = prices_recommended @ flags / sum(prices_recommended)\n",
    "    \n",
    "    return precision"
   ]
  },
  {
   "cell_type": "code",
   "execution_count": 621,
   "metadata": {},
   "outputs": [
    {
     "data": {
      "text/plain": [
       "0.2"
      ]
     },
     "execution_count": 621,
     "metadata": {},
     "output_type": "execute_result"
    }
   ],
   "source": [
    "#пример работы\n",
    "precision(recommended_list, bought_list)"
   ]
  },
  {
   "cell_type": "code",
   "execution_count": 622,
   "metadata": {},
   "outputs": [
    {
     "data": {
      "text/plain": [
       "0.3333333333333333"
      ]
     },
     "execution_count": 622,
     "metadata": {},
     "output_type": "execute_result"
    }
   ],
   "source": [
    "#пример работы\n",
    "precision_at_k(recommended_list, bought_list, k=3)"
   ]
  },
  {
   "cell_type": "code",
   "execution_count": 623,
   "metadata": {},
   "outputs": [
    {
     "data": {
      "text/plain": [
       "0.6984126984126984"
      ]
     },
     "execution_count": 623,
     "metadata": {},
     "output_type": "execute_result"
    }
   ],
   "source": [
    "#пример работы\n",
    "money_precision_at_k(recommended_list, bought_list, prices_recommended, k=5)"
   ]
  },
  {
   "cell_type": "markdown",
   "metadata": {},
   "source": [
    "### 3. Recall\n",
    "\n",
    "*Recall* - доля рекомендованных товаров среди релевантных = Какой % купленных товаров был среди рекомендованных\n",
    "\n",
    "Recall = количество рекомендуемых товаров среди купленных / количество купленных товаров  \n",
    "\n",
    "1) определем какие из купленных товаров были в рекомендации(flags);\n",
    "\n",
    "2) количество элементов в flags делим на количество купленных товаров.\n",
    "\n",
    "Recall@k =  количество рекомендованных k-товаров среди купленных / количество купленных товаров\n",
    "\n",
    "Money Recall@k = выручка от рекомендованных k-товаров среди купленных / выручка от купленных товаров\n",
    "  \n",
    "**P.S.:** в recall@k число k обычно достаточно большое (50-200), больше чем покупок у среднестатистического юзера"
   ]
  },
  {
   "cell_type": "code",
   "execution_count": 624,
   "metadata": {},
   "outputs": [],
   "source": [
    "#исходные данные\n",
    "recommended_list = [143, 156, 1134, 991, 27, 1543, 3345, 533, 11, 43] #id товаров\n",
    "bought_list = [521, 32, 143, 991]\n",
    "prices_bought = [400, 60, 40, 40]"
   ]
  },
  {
   "cell_type": "code",
   "execution_count": 625,
   "metadata": {},
   "outputs": [],
   "source": [
    "#определение\n",
    "def recall(recommended_list, bought_list):\n",
    "    \n",
    "    recommended_list = np.array(recommended_list)\n",
    "    \n",
    "    bought_list = np.array(bought_list)\n",
    "        \n",
    "    flags = np.isin(bought_list, recommended_list) #какие товары среди купленных были рекомендованы\n",
    "    \n",
    "    recall = flags.sum() / len(bought_list)\n",
    "    \n",
    "    return recall\n",
    "\n",
    "\n",
    "def recall_at_k(recommended_list, bought_list, k=5):\n",
    "     \n",
    "    recommended_list = np.array(recommended_list[:k])\n",
    "    \n",
    "    bought_list = np.array(bought_list)\n",
    "            \n",
    "    flags = np.isin(bought_list, recommended_list) * 1\n",
    "    \n",
    "    recall = flags.sum() / len(bought_list)\n",
    "    \n",
    "    return recall\n",
    "\n",
    "\n",
    "def money_recall_at_k(recommended_list, bought_list, prices_bought, k=5):\n",
    "    \n",
    "    bought_list = np.array(bought_list)\n",
    "    \n",
    "    recommended_list = np.array(recommended_list[:k])\n",
    "    \n",
    "    prices_bought = np.array(prices_bought[:len(bought_list)])\n",
    "    \n",
    "    flags = np.isin(bought_list, recommended_list) * 1\n",
    "    \n",
    "    recall = prices_bought @ flags / sum(prices_bought)\n",
    "\n",
    "    return recall"
   ]
  },
  {
   "cell_type": "code",
   "execution_count": 626,
   "metadata": {},
   "outputs": [
    {
     "data": {
      "text/plain": [
       "0.5"
      ]
     },
     "execution_count": 626,
     "metadata": {},
     "output_type": "execute_result"
    }
   ],
   "source": [
    "#пример работы\n",
    "recall(recommended_list, bought_list)"
   ]
  },
  {
   "cell_type": "code",
   "execution_count": 627,
   "metadata": {},
   "outputs": [
    {
     "data": {
      "text/plain": [
       "0.5"
      ]
     },
     "execution_count": 627,
     "metadata": {},
     "output_type": "execute_result"
    }
   ],
   "source": [
    "#пример работы\n",
    "recall_at_k(recommended_list, bought_list, k=10)"
   ]
  },
  {
   "cell_type": "code",
   "execution_count": 628,
   "metadata": {},
   "outputs": [
    {
     "data": {
      "text/plain": [
       "0.14814814814814814"
      ]
     },
     "execution_count": 628,
     "metadata": {},
     "output_type": "execute_result"
    }
   ],
   "source": [
    "#пример работы\n",
    "money_recall_at_k(recommended_list, bought_list, prices_bought, k=10)"
   ]
  },
  {
   "cell_type": "markdown",
   "metadata": {},
   "source": [
    "## Метрики ранжирования <a class=\"anchor\" id=\"part2\"></a><center>"
   ]
  },
  {
   "cell_type": "markdown",
   "metadata": {},
   "source": [
    "Ранжирование — задача сортировки набора элементов из соображения их релевантности. \n",
    "В задаче рекомендаций объект — это пользователь, элементы — тот или иной рекомендуемый контент (товары, видео, музыка), а релевантность — вероятность того, что пользователь воспользуется (купит/лайкнет/просмотрит) данным контентом."
   ]
  },
  {
   "cell_type": "markdown",
   "metadata": {},
   "source": [
    "### 1. AP@k\n",
    "AP@k - average precision at k -- cуммa precision@k по индексам от 1 до k только для релевантных элементов, деленная на r\n",
    "\n",
    "$$AP@k = \\frac{1}{r} \\sum_{i=1}^k{[recommended_{relevant_i}]*precision@i},$$\n",
    "\n",
    "где $r$ -- количество релевантных среди рекомендованных, \n",
    "\n",
    "$[recommended_{relevant_i}] = 1$, если рекомендоваенный товар ранга $i$  релевантный и 0 в противном случае.\n",
    "\n",
    "1) определяем индексы релевантных товаров среди рекомендованных;\n",
    "\n",
    "2) считаем сумму precision@k по индексам+1 из 1);\n",
    "\n",
    "3) делим сумму из 2) количество элементов из 1)."
   ]
  },
  {
   "cell_type": "code",
   "execution_count": 629,
   "metadata": {},
   "outputs": [],
   "source": [
    "#исходные данные\n",
    "recommended_list = [221,2,3234,1,234,234,234,666] #id товаров\n",
    "bought_list = [1,2,3,4,5,6,7,8,9]"
   ]
  },
  {
   "cell_type": "code",
   "execution_count": 630,
   "metadata": {},
   "outputs": [],
   "source": [
    "def ap_k(recommended_list, bought_list, k=5):\n",
    "    \n",
    "    recommended_list = np.array(recommended_list[:k])\n",
    "    \n",
    "    bought_list = np.array(bought_list)\n",
    "    \n",
    "    relevant_indexes = np.nonzero(np.isin(recommended_list, bought_list))[0] #индексы купленных в списке рекомендованных\n",
    "    \n",
    "    if len(relevant_indexes) == 0:\n",
    "        return 0\n",
    "    \n",
    "    amount_relevant = len(relevant_indexes) #количество купленных среди рекомендованных\n",
    "    \n",
    "    sum_ = sum([precision_at_k(recommended_list, bought_list, k=index_relevant+1) for index_relevant in relevant_indexes])\n",
    "    \n",
    "    return sum_/amount_relevant "
   ]
  },
  {
   "cell_type": "code",
   "execution_count": 631,
   "metadata": {},
   "outputs": [
    {
     "data": {
      "text/plain": [
       "0.5"
      ]
     },
     "execution_count": 631,
     "metadata": {},
     "output_type": "execute_result"
    }
   ],
   "source": [
    "#пример работы\n",
    "ap_k(recommended_list, bought_list, k=5)"
   ]
  },
  {
   "cell_type": "markdown",
   "metadata": {},
   "source": [
    "### 2. MAP@k\n",
    "\n",
    "MAP@k (Mean Average Precision@k)  -- считаем AP@k по всем пользователям и усредняем\n",
    "\n",
    "$$MAP@k = \\frac{1}{N} \\sum_{j=1}^{N}{AP@k_j}$$,\n",
    "  \n",
    "где $N$ - кол-во пользователей."
   ]
  },
  {
   "cell_type": "code",
   "execution_count": 632,
   "metadata": {},
   "outputs": [],
   "source": [
    "#исходные данные\n",
    "recommended_list_3_users = [[143, 156, 1134, 991, 27, 1543, 3345, 533, 11, 43], \n",
    "                    [1134, 533, 14, 4, 15, 1543, 1, 99, 27, 3345],\n",
    "                    [991, 3345, 27, 533, 43, 143, 1543, 156, 1134, 11]\n",
    "                           ]\n",
    "\n",
    "bought_list_3_users = [[521, 32, 143],  # юзер 1\n",
    "                       [143, 156, 991, 43, 11], # юзер 2\n",
    "                       [1,2]] # юзер 3"
   ]
  },
  {
   "cell_type": "code",
   "execution_count": 633,
   "metadata": {},
   "outputs": [],
   "source": [
    "#определение\n",
    "def map_k(recommended_list_n_users, bought_list_n_users, k=5):\n",
    "   \n",
    "    result = np.mean([ap_k(recommended_list_n_users[i], bought_list_n_users[i], k) for i in range(len(recommended_list_n_users))])\n",
    "    \n",
    "    return result"
   ]
  },
  {
   "cell_type": "code",
   "execution_count": 634,
   "metadata": {},
   "outputs": [
    {
     "data": {
      "text/plain": [
       "0.3333333333333333"
      ]
     },
     "execution_count": 634,
     "metadata": {},
     "output_type": "execute_result"
    }
   ],
   "source": [
    "#пример работы\n",
    "map_k(recommended_list_3_users, bought_list_3_users, k=5)"
   ]
  },
  {
   "cell_type": "markdown",
   "metadata": {},
   "source": [
    "### 3. AUC@k\n",
    "AUC для первых k наблюдений  \n",
    "- Можно посчитать как sklern.metrics.roc_auc_score для топ-k предсказаний\n",
    "- Показывает долю верно отранжированных товаров"
   ]
  },
  {
   "cell_type": "code",
   "execution_count": 635,
   "metadata": {},
   "outputs": [],
   "source": [
    "#исходные данные\n",
    "recommended_list = [221,2,3234,1,234,234,234,666] #id товаров\n",
    "bought_list = [1,2,3,4,5,6,7,8,9]"
   ]
  },
  {
   "cell_type": "code",
   "execution_count": 636,
   "metadata": {},
   "outputs": [
    {
     "data": {
      "text/plain": [
       "0.5"
      ]
     },
     "execution_count": 636,
     "metadata": {},
     "output_type": "execute_result"
    }
   ],
   "source": [
    "from sklearn.metrics import roc_auc_score\n",
    "\n",
    "# какие из рекомендованных товаров были куплены (верные рекомендации)\n",
    "y_true = np.isin(recommended_list, bought_list) * 1\n",
    "\n",
    "# все рекомендованные товары\n",
    "y_score = np.array([1] * len(recommended_list))\n",
    "\n",
    "roc_auc_score(y_true, y_score)"
   ]
  },
  {
   "cell_type": "markdown",
   "metadata": {},
   "source": [
    "### 4. nDCG@k\n",
    "\n",
    "Normalized discounted cumulative gain \n",
    "\n",
    "$$nDCG@k = \\frac{DCG@k}{IDCG@k},$$\n",
    "\n",
    "где $DCG@k = \\frac{1}{k}\\Sigma_{i=1}^k{\\frac{bought fact}{discount(i)}}$, $IDCG@k = \\frac{1}{k} \\Sigma_{i=1}^k{\\frac{1}{discount(i)}}$, \n",
    "\n",
    "$k$ -- количество рекомендованных товаров, bought fact = 1, если рекомендоваенный товр релевантен и 0 в противном случае.\n",
    "\n",
    "$discount(i) = i$ if $i <= 2$,   \n",
    "$discount(i) = log_2(i)$ if $i > 2$."
   ]
  },
  {
   "cell_type": "code",
   "execution_count": 637,
   "metadata": {},
   "outputs": [],
   "source": [
    "#исходные данные\n",
    "recommended_list = [221,2,3234,1,234,234,234,666] #id товаров\n",
    "bought_list = [1,2,3,4,5,6,7,8,9]"
   ]
  },
  {
   "cell_type": "code",
   "execution_count": 638,
   "metadata": {},
   "outputs": [],
   "source": [
    "import math\n",
    "\n",
    "#определение\n",
    "def ndcg_at_k(recommended_list, bought_list, k=5):\n",
    "    \n",
    "    recommended_list = np.array(recommended_list[:k])\n",
    "    \n",
    "    bought_list = np.array(bought_list)\n",
    "    \n",
    "    flags = np.isin(recommended_list, bought_list) * 1  # какие из рекомендованных товаров куплены\n",
    "    \n",
    "    discount = []\n",
    "    \n",
    "    for i in range(len(recommended_list)):\n",
    "        if i+1 <= 2:\n",
    "            discount.append(i+1)\n",
    "        else:\n",
    "            discount.append(math.log2(i+1))\n",
    "            \n",
    "    discount_i = np.array([1/disc for disc in discount])\n",
    "    \n",
    "    dcg = (1/len(recommended_list)) * (flags @ discount_i)\n",
    "    \n",
    "    ideal_dcg = (1/len(recommended_list)) * (np.array([1] * len(recommended_list)) @ discount_i)\n",
    "    \n",
    "    ndcg = dcg / ideal_dcg\n",
    "    \n",
    "    return ndcg"
   ]
  },
  {
   "cell_type": "code",
   "execution_count": 639,
   "metadata": {},
   "outputs": [
    {
     "data": {
      "text/plain": [
       "0.28998458892125684"
      ]
     },
     "execution_count": 639,
     "metadata": {},
     "output_type": "execute_result"
    }
   ],
   "source": [
    "#пример работы\n",
    "ndcg_at_k(recommended_list, bought_list, k=6)"
   ]
  },
  {
   "cell_type": "markdown",
   "metadata": {},
   "source": [
    "Метрика для нескольких пользователей"
   ]
  },
  {
   "cell_type": "code",
   "execution_count": 640,
   "metadata": {},
   "outputs": [],
   "source": [
    "# исходные данные\n",
    "recommended_list_3_users = [[143, 156, 1134, 991, 27, 1543, 3345, 533, 11, 43], \n",
    "                    [1134, 533, 14, 4, 15, 1543, 1, 99, 27, 3345],\n",
    "                    [991, 3345, 27, 533, 43, 143, 1543, 156, 1134, 11]]\n",
    "\n",
    "bought_list_3_users = [[521, 32, 143],  # юзер 1\n",
    "                       [143, 156, 991, 43, 11], # юзер 2\n",
    "                       [1,2]] # юзер 3"
   ]
  },
  {
   "cell_type": "code",
   "execution_count": 641,
   "metadata": {},
   "outputs": [],
   "source": [
    "#определение \n",
    "def n_ndcg_at_k(recommended_list_n_users, bought_list_n_users, k=5):\n",
    "    \n",
    "    result = np.mean([ndcg_at_k(recommended_list_n_users[i], bought_list_n_users[i], k) for i in range(len(recommended_list_n_users))])\n",
    "    \n",
    "    return result"
   ]
  },
  {
   "cell_type": "code",
   "execution_count": 642,
   "metadata": {},
   "outputs": [
    {
     "data": {
      "text/plain": [
       "0.09666152964041895"
      ]
     },
     "execution_count": 642,
     "metadata": {},
     "output_type": "execute_result"
    }
   ],
   "source": [
    "#пример работы\n",
    "n_ndcg_at_k(recommended_list_3_users, bought_list_3_users, k=6)"
   ]
  },
  {
   "cell_type": "markdown",
   "metadata": {},
   "source": [
    "### 5. MRR@k\n",
    "\n",
    "Mean Reciprocal Rank\n",
    "\n",
    "$$MRR@k = \\frac{1}{N}\\Sigma_{i=1}^N RR@K_j$$, \n",
    "\n",
    "где $N$ -- количество пользователей, $RR@K_j = 1/k_j$ -- обратный ранк первого релевантного элемента среди k рекомендованных\n",
    "\n",
    "1) определяем первые k рекомендаций;\n",
    "\n",
    "2) для каждого пользователя $j$ находим ранк первого релевантного товара среди рекомендованных $k_j$;\n",
    "\n",
    "3) считаем  $RR@K = 1/k_j$ для каждого пользователя $j$;\n",
    "\n",
    "4) вычисляем $MRR@k = mean(RR@K)$."
   ]
  },
  {
   "cell_type": "code",
   "execution_count": 643,
   "metadata": {},
   "outputs": [],
   "source": [
    "#исходные данные\n",
    "recommended_list = [221,2,3234,1,234,234,234,666] #id товаров\n",
    "bought_list = [1,2,3,4,5,6,7,8,9]\n",
    "\n",
    "recommended_list_3_users = [[143, 156, 1134, 991, 27, 1543, 3345, 533, 11, 43], \n",
    "                    [1134, 533, 143, 4, 15, 1543, 1, 99, 27, 3345],\n",
    "                    [991, 3345, 27, 533, 43, 143, 1543, 156, 1134, 11]]\n",
    "bought_list_3_users = [[521, 32, 143],  # юзер 1\n",
    "                       [143, 156, 991, 43, 11], # юзер 2\n",
    "                       [1,2]] # юзер 3"
   ]
  },
  {
   "cell_type": "code",
   "execution_count": 644,
   "metadata": {},
   "outputs": [],
   "source": [
    "#определение\n",
    "def reciprocal_rank(recommended_list, bought_list, k=1):\n",
    "   \n",
    "    recommended_list = np.array(recommended_list[:k])\n",
    "    \n",
    "    bought_list = np.array(bought_list)\n",
    "    \n",
    "    #номер (ранк) первого купленного товара среди рекомендуемых\n",
    "    try:\n",
    "        relevant_rank = np.nonzero(np.isin(recommended_list, bought_list))[0][0] + 1\n",
    "    \n",
    "    except IndexError:\n",
    "        relevant_rank = 0\n",
    "    \n",
    "    try:\n",
    "    #reciprocal rank\n",
    "        rank = 1/relevant_rank\n",
    "    except ZeroDivisionError: \n",
    "        rank = 0\n",
    "    \n",
    "    return rank\n",
    "\n",
    "#определение\n",
    "def mrr(recommended_list_n_users, bought_list_n_users, k=5):\n",
    "    \n",
    "    mrr = np.mean([reciprocal_rank(recommended_list_n_users[i], bought_list_n_users[i], k) for i in range(len(recommended_list_n_users))])\n",
    "    \n",
    "    return mrr"
   ]
  },
  {
   "cell_type": "code",
   "execution_count": 645,
   "metadata": {},
   "outputs": [
    {
     "data": {
      "text/plain": [
       "0.5"
      ]
     },
     "execution_count": 645,
     "metadata": {},
     "output_type": "execute_result"
    }
   ],
   "source": [
    "#пример работы\n",
    "reciprocal_rank(recommended_list, bought_list, k=3)"
   ]
  },
  {
   "cell_type": "code",
   "execution_count": 646,
   "metadata": {},
   "outputs": [
    {
     "data": {
      "text/plain": [
       "0.4444444444444444"
      ]
     },
     "execution_count": 646,
     "metadata": {},
     "output_type": "execute_result"
    }
   ],
   "source": [
    "#пример работы\n",
    "mrr(recommended_list_3_users, bought_list_3_users, k=5)"
   ]
  },
  {
   "cell_type": "markdown",
   "metadata": {},
   "source": [
    "## Другие метрики для оценки рекомендаций/ранжирования <a class=\"anchor\" id=\"part3\"></a><center>"
   ]
  },
  {
   "cell_type": "markdown",
   "metadata": {},
   "source": [
    "1. Метрики на основе ранговой корреляции (ранговые коэффициенты корреляции Кендэлла и Спирмена)\n",
    "\n",
    "2. Метрики на основе каскадной модели поведения (ERR, PFound)"
   ]
  }
 ],
 "metadata": {
  "kernelspec": {
   "display_name": "Python 3",
   "language": "python",
   "name": "python3"
  },
  "language_info": {
   "codemirror_mode": {
    "name": "ipython",
    "version": 3
   },
   "file_extension": ".py",
   "mimetype": "text/x-python",
   "name": "python",
   "nbconvert_exporter": "python",
   "pygments_lexer": "ipython3",
   "version": "3.8.5"
  }
 },
 "nbformat": 4,
 "nbformat_minor": 4
}
